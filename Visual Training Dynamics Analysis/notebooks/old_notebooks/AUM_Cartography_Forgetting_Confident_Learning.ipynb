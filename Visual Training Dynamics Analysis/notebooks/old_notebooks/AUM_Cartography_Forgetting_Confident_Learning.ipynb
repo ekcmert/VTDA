{
 "cells": [
  {
   "cell_type": "code",
   "execution_count": 1,
   "metadata": {
    "id": "SZTjA2oCUK9V",
    "pycharm": {
     "name": "#%%\n"
    }
   },
   "outputs": [
    {
     "name": "stderr",
     "output_type": "stream",
     "text": [
      "\n",
      "KeyboardInterrupt\n",
      "\n"
     ]
    }
   ],
   "source": [
    "import torch\n",
    "from torch import nn\n",
    "from torch.utils.data import DataLoader\n",
    "from torchvision import datasets\n",
    "from torchvision.transforms import ToTensor\n",
    "\n",
    "import pandas as pd\n",
    "import numpy as np\n",
    "import seaborn as sns\n",
    "import matplotlib.pyplot as plt\n",
    "\n",
    "from torch.utils.tensorboard import SummaryWriter\n",
    "from scipy.stats import entropy\n",
    "\n",
    "sns.set_style(\"white\")\n",
    "sns.set(rc={'figure.figsize':(10,5)})\n",
    "import random"
   ]
  },
  {
   "cell_type": "markdown",
   "metadata": {
    "id": "Xdrs8IFeSIy2",
    "pycharm": {
     "name": "#%% md\n"
    }
   },
   "source": [
    "###Scatter_it Function"
   ]
  },
  {
   "cell_type": "code",
   "execution_count": null,
   "metadata": {
    "id": "f6M7hzPKKV1p",
    "pycharm": {
     "name": "#%%\n"
    }
   },
   "outputs": [],
   "source": [
    "def scatter_it(dataframe,x_axis=\"\",y_axis=\"\", hue_metric ='', title='', model='', show_hist=False):\n",
    "    # Subsample data to plot, so the plot is not too busy.\n",
    "    dataframe = dataframe.sample(n=25000 if dataframe.shape[0] > 25000 else len(dataframe))\n",
    "\n",
    "\n",
    "#    # Normalize correctness to a value between 0 and 1.\n",
    "#    dataframe = dataframe.assign(corr_frac = lambda d: d.correctness / d.correctness.max())\n",
    "#    dataframe['correct.'] = [f\"{x:.1f}\" for x in dataframe['corr_frac']]\n",
    "\n",
    "    if not show_hist:\n",
    "        fig, axs = plt.subplots(1, 1, figsize=(8, 4))\n",
    "        ax0 = axs\n",
    "    else:\n",
    "        fig = plt.figure(figsize=(16, 10), )\n",
    "        gs = fig.add_gridspec(2, 3, height_ratios=[5, 1])\n",
    "\n",
    "        ax0 = fig.add_subplot(gs[0, :])\n",
    "\n",
    "\n",
    "    ### Make the scatterplot.\n",
    "\n",
    "    # Choose a palette.\n",
    "\n",
    "\n",
    "    plot = sns.scatterplot(x=x_axis,\n",
    "                           y=y_axis,\n",
    "                           hue=hue_metric,\n",
    "                           ax=ax0,\n",
    "                           data=dataframe,\n",
    "                           palette=\"RdYlGn\",\n",
    "                           s=30)\n",
    "    \n",
    "\n",
    "    if not show_hist:\n",
    "        plot.legend(ncol=1, bbox_to_anchor=(1.01, 0.5), loc='center left', fancybox=True, shadow=True)\n",
    "    else:\n",
    "        plot.legend(fancybox=True, shadow=True,  ncol=1)\n",
    "    plot.set_xlabel(x_axis)\n",
    "    plot.set_ylabel(y_axis)\n",
    "\n",
    "    if show_hist:\n",
    "        plot.set_title(f\"{model}-{title} Data Map\", fontsize=17)\n",
    "\n",
    "        # Make the histograms.\n",
    "        ax1 = fig.add_subplot(gs[1, 0])\n",
    "        ax2 = fig.add_subplot(gs[1, 1])\n",
    "        ax3 = fig.add_subplot(gs[1, 2])\n",
    "\n",
    "        plott0 = dataframe.hist(column=[y_axis], ax=ax1, color='#622a87')\n",
    "        plott0[0].set_title('')\n",
    "        plott0[0].set_xlabel(y_axis)\n",
    "        plott0[0].set_ylabel('density')\n",
    "\n",
    "        plott1 = dataframe.hist(column=[x_axis], ax=ax2, color='teal')\n",
    "        plott1[0].set_title('')\n",
    "        plott1[0].set_xlabel(x_axis)\n",
    "\n",
    "        plot2 = sns.histplot(x=hue_metric, data=dataframe, color='#86bf91', ax=ax3,bins=10)\n",
    "        ax3.xaxis.grid(True) # Show the vertical gridlines\n",
    "\n",
    "        plot2.set_title('')\n",
    "        plot2.set_xlabel(hue_metric)\n",
    "        plot2.set_ylabel('')"
   ]
  },
  {
   "cell_type": "markdown",
   "metadata": {
    "id": "ff0Jya528oeS",
    "pycharm": {
     "name": "#%% md\n"
    }
   },
   "source": [
    "### Preparing Data"
   ]
  },
  {
   "cell_type": "code",
   "execution_count": null,
   "metadata": {
    "colab": {
     "base_uri": "https://localhost:8080/",
     "height": 295,
     "referenced_widgets": [
      "41745c4f97e049d9be417cc7e67bafe1",
      "2e355d0dc57844949e0de2ae0e54ccdb",
      "a5ec63c207cd4d849258d85b6c1cc340",
      "e1d7196768c146ea9931a7b18a735e8e",
      "8cc38840ddee4c8d89d4072ac4c9963d",
      "d06de6ca1abd4558abaa267b5bd08ac0",
      "35eb5c845f294c468d84ba2a16f8484f",
      "79730c17b8da4934863a1e63c56c3a68",
      "7a49df0067764714b561a6e424c13377",
      "a7c2c4512c0d4c5cb20f4c0dd6e13ddb",
      "51a475de3ace4845ab36893de38ab4f5",
      "f3d75f3ae2bb4a8d9902460179a5d82d",
      "4a1a795b3ae04399b876baa35b183447",
      "5e16580320814c5fad689d4f5fd37f86",
      "c790619163aa45798c2fc8a507225deb",
      "14c2c388a2604723a5ada7105557cfd7",
      "8adf504d01244c21a9f3ca502c4b1c40",
      "0c091e37f85d4fd2b80ad0324894bafa",
      "0698d2d24e1d43aa9b54e6a842eb1585",
      "b23ed5aa3dad4e288cbd2451f4a8b1c6",
      "92ff48e9e3c4444b92eab355e5c027bb",
      "9529907eaf7845bc806ec9f05dfcb488",
      "fede23cfa049492aafc7094d97f4c406",
      "c000acdccd664f5285e98d6e3b121928",
      "413c7265ef56430f83af0fa8d454cb4e",
      "62a20b95d54742c292c7387a00ba8ab9",
      "f4edcb32ec2f451f8971e7ac97375819",
      "ebc208e361aa4c15971c124c46e3c84c",
      "66b93ce92c264d88b06ccdb47b99582b",
      "8492f836b1e54996bf6c5d540b87ca75",
      "e807208ef76542d481fb30598c73d66a",
      "cbec24726ae04da3b2903a4ff20189cd",
      "d7a3a19b8a1048c0862c490b62bcaa33",
      "756a7808b4a84b9bbe7a922992f4d5d3",
      "4a5803641eb04ad0a5cf84aea3abccf2",
      "a8021ef89c6e40748707d6f9de0318e5",
      "7a5b660504c24187ace96bd9719deef7",
      "6da4046a2c9244498a60267f41d51b37",
      "fdea6a9197574c80a8bd8489546f10fd",
      "6b53014532a34628bbcef99d495fdb95",
      "c5c4ccbde3e845a09ba532a2338cee38",
      "d504426d25f24999a40d2e3d8212a9cc",
      "c4cc8337c96445a997db66de81889588",
      "7202da09f5214a699f740f519e9860ce"
     ]
    },
    "id": "PsnSv3zPUQUr",
    "outputId": "52414dac-f838-419c-d46a-76dbf0607741",
    "pycharm": {
     "name": "#%%\n"
    }
   },
   "outputs": [],
   "source": [
    "# Download training data from open datasets.\n",
    "training_data = datasets.FashionMNIST(\n",
    "    root=\"data\",\n",
    "    train=True,\n",
    "    download=True,\n",
    "    transform=ToTensor(),\n",
    ")\n",
    "\n",
    "# Download test data from open datasets.\n",
    "test_data = datasets.FashionMNIST(\n",
    "    root=\"data\",\n",
    "    train=False,\n",
    "    download=True,\n",
    "    transform=ToTensor(),\n",
    ")"
   ]
  },
  {
   "cell_type": "code",
   "execution_count": null,
   "metadata": {
    "colab": {
     "base_uri": "https://localhost:8080/"
    },
    "id": "jJ84lNuIUVEO",
    "outputId": "6a84a929-ce9e-4288-830a-b5b721f8d9e2",
    "pycharm": {
     "name": "#%%\n"
    }
   },
   "outputs": [],
   "source": [
    "batch_size = 64\n",
    "\n",
    "# Create data loaders.\n",
    "train_dataloader = DataLoader(training_data, batch_size=batch_size)\n",
    "test_dataloader = DataLoader(test_data, batch_size=batch_size)\n",
    "\n",
    "for X, y in test_dataloader:\n",
    "    print(f\"Shape of X [N, C, H, W]: {X.shape}\")\n",
    "    print(f\"Shape of y: {y.shape} {y.dtype}\")\n",
    "    break"
   ]
  },
  {
   "cell_type": "code",
   "execution_count": null,
   "metadata": {
    "id": "AUvQzEzpUqsJ",
    "pycharm": {
     "name": "#%%\n"
    }
   },
   "outputs": [],
   "source": [
    "##classes in dataset 0=T-shirt ...\n",
    "classes = [\"T-shirt/top\", \"Trouser\", \"Pullover\", \"Dress\", \"Coat\", \"Sandal\", \"Shirt\", \"Sneaker\", \"Bag\", \"Ankle boot\"]"
   ]
  },
  {
   "cell_type": "markdown",
   "metadata": {
    "id": "RZE5XXj0jp_V",
    "pycharm": {
     "name": "#%% md\n"
    }
   },
   "source": [
    "###AUM"
   ]
  },
  {
   "cell_type": "code",
   "execution_count": null,
   "metadata": {
    "id": "qDeUVEyljpR3",
    "pycharm": {
     "name": "#%%\n"
    }
   },
   "outputs": [],
   "source": [
    "class AreaUnderTheMarginRanking():\n",
    "    def __init__(self):\n",
    "        # hist_delta_AUM_current_epoch dimensions: [n_sample, 2 (from in_logit & max(out_logits))]\n",
    "        self.hist_delta_AUM_current_epoch = torch.zeros(size=(0, 2))\n",
    "        # hist_delta_AUM dimensions: [n_epoch, n_sample, in_logit & max(out_logits)]\n",
    "        self.hist_delta_AUM = torch.zeros(size=(0, 0, 2))\n",
    "        self.reference_sample_idx = []\n",
    "\n",
    "    def accumulate(self, batch_logits, batch_ids, batch_targets):\n",
    "        \"\"\" To be called after batch prediction\"\"\"\n",
    "        for img_logit, img_id, img_target in zip(batch_logits.split([1] * len(batch_logits), dim=0),\n",
    "                                                 batch_ids.split([1] * len(batch_logits), dim=0),\n",
    "                                                 batch_targets.split([1] * len(batch_logits), dim=0)):\n",
    "            img_logit = img_logit.squeeze(dim=0)\n",
    "            target_logit = img_logit[img_target]\n",
    "            if img_target < len(img_logit) - 1:\n",
    "                notarget_logits = torch.cat([img_logit[:img_target], img_logit[img_target + 1:]], dim=0)\n",
    "            else:\n",
    "                notarget_logits = img_logit[:img_target]\n",
    "            notarget_logits = notarget_logits.max()\n",
    "            self.hist_delta_AUM_current_epoch = torch.cat(\n",
    "                [self.hist_delta_AUM_current_epoch, torch.tensor([[target_logit, notarget_logits]])], dim=0)\n",
    "\n",
    "    def accumulate_epoch(self):\n",
    "        \"\"\" To be called at the end of each epoch\"\"\"\n",
    "        if len(self.hist_delta_AUM) == 0:\n",
    "            self.hist_delta_AUM = self.hist_delta_AUM_current_epoch.unsqueeze(dim=0)\n",
    "        else:\n",
    "            self.hist_delta_AUM = torch.cat([self.hist_delta_AUM, self.hist_delta_AUM_current_epoch.unsqueeze(dim=0)],\n",
    "                                            dim=0)\n",
    "        self.hist_delta_AUM_current_epoch = torch.zeros(size=(0, 2))"
   ]
  },
  {
   "cell_type": "code",
   "execution_count": null,
   "metadata": {
    "id": "ITaoWEPUlGI2",
    "pycharm": {
     "name": "#%%\n"
    }
   },
   "outputs": [],
   "source": [
    "deneme = AreaUnderTheMarginRanking()"
   ]
  },
  {
   "cell_type": "markdown",
   "metadata": {
    "id": "jabxVJn48svI",
    "pycharm": {
     "name": "#%% md\n"
    }
   },
   "source": [
    "###Model"
   ]
  },
  {
   "cell_type": "code",
   "execution_count": null,
   "metadata": {
    "id": "VWlmseQ_UXzp",
    "colab": {
     "base_uri": "https://localhost:8080/"
    },
    "outputId": "73145b98-dccb-4caa-827c-925dd56fce86",
    "pycharm": {
     "name": "#%%\n"
    }
   },
   "outputs": [],
   "source": [
    "# Get cpu or gpu device for training.\n",
    "device = \"cuda\" if torch.cuda.is_available() else \"cpu\"\n",
    "print(f\"Using {device} device\")\n",
    "\n",
    "# Define model\n",
    "class NeuralNetwork(nn.Module):\n",
    "    def __init__(self):\n",
    "        super(NeuralNetwork, self).__init__()\n",
    "        self.flatten = nn.Flatten()\n",
    "        self.linear_relu_stack = nn.Sequential(\n",
    "            nn.Linear(28*28, 512),\n",
    "            nn.ReLU(),\n",
    "            nn.Linear(512, 512),\n",
    "            nn.ReLU(),\n",
    "            nn.Linear(512, 10)\n",
    "        )\n",
    "\n",
    "    def forward(self, x):\n",
    "        x = self.flatten(x)\n",
    "        logits = self.linear_relu_stack(x)\n",
    "        return logits\n",
    "\n",
    "model = NeuralNetwork().to(device)\n",
    "print(model)"
   ]
  },
  {
   "cell_type": "code",
   "execution_count": null,
   "metadata": {
    "id": "1am_2bLHUeMM",
    "pycharm": {
     "name": "#%%\n"
    }
   },
   "outputs": [],
   "source": [
    "loss_fn = nn.CrossEntropyLoss()\n",
    "optimizer = torch.optim.SGD(model.parameters(), lr=1e-3)"
   ]
  },
  {
   "cell_type": "markdown",
   "metadata": {
    "id": "tubs_2TW978D",
    "pycharm": {
     "name": "#%% md\n"
    }
   },
   "source": [
    "####Pred Hist "
   ]
  },
  {
   "cell_type": "code",
   "execution_count": null,
   "metadata": {
    "id": "xRQeAlJE9yOL",
    "pycharm": {
     "name": "#%%\n"
    }
   },
   "outputs": [],
   "source": [
    "prediction_history = torch.zeros(0,60000,10) ## Epoch Number x Dataset Size x Class number\n",
    "prediction_history = prediction_history.to(device) ## to GPU"
   ]
  },
  {
   "cell_type": "markdown",
   "metadata": {
    "id": "N4n1vTBq894H",
    "pycharm": {
     "name": "#%% md\n"
    }
   },
   "source": [
    "### Train Function"
   ]
  },
  {
   "cell_type": "code",
   "execution_count": null,
   "metadata": {
    "id": "_aRxXhHjUe9h",
    "pycharm": {
     "name": "#%%\n"
    }
   },
   "outputs": [],
   "source": [
    "def train(dataloader, model, loss_fn, optimizer):\n",
    "\n",
    "  global prediction_history ##\n",
    "\n",
    "  size = len(dataloader.dataset)\n",
    "  model.train()\n",
    "\n",
    "  epoch_pred=torch.zeros(0,10) ### 10 = class number ## prediction table(tensor)\n",
    "  epoch_pred = epoch_pred.to(device) ###\n",
    "\n",
    "  for batch, (X, y) in enumerate(dataloader):\n",
    "    X, y = X.to(device), y.to(device)\n",
    "\n",
    "    # Compute prediction error\n",
    "    pred = model(X)\n",
    "\n",
    "    ###record new predictions to table\n",
    "\n",
    "    epoch_pred=torch.cat((epoch_pred,pred)) \n",
    "\n",
    "    ##AUM ACCUMULATE\n",
    "\n",
    "    img_id = range(batch,batch+len(X))\n",
    "\n",
    "    img_id = torch.tensor(img_id).to(device)\n",
    "\n",
    "    deneme.accumulate(pred, img_id, y)\n",
    "\n",
    "\n",
    "    ##Calculate LOSS\n",
    "    loss = loss_fn(pred, y)\n",
    "\n",
    "    # Backpropagation\n",
    "    optimizer.zero_grad()\n",
    "    loss.backward()\n",
    "    optimizer.step()\n",
    "\n",
    "    if batch % 100 == 0:\n",
    "        loss, current = loss.item(), batch * len(X)\n",
    "        print(f\"loss: {loss:>7f}  [{current:>5d}/{size:>5d}]\")\n",
    "\n",
    "\n",
    "  ### add prediction history of this epoch to full history\n",
    "  prediction_history =torch.cat((prediction_history,torch.unsqueeze(epoch_pred, 0)))\n",
    "  deneme.accumulate_epoch()"
   ]
  },
  {
   "cell_type": "markdown",
   "metadata": {
    "id": "6tKz-NZj8_-6",
    "pycharm": {
     "name": "#%% md\n"
    }
   },
   "source": [
    "### Test Function"
   ]
  },
  {
   "cell_type": "code",
   "execution_count": null,
   "metadata": {
    "id": "jQda7YlaUhrE",
    "pycharm": {
     "name": "#%%\n"
    }
   },
   "outputs": [],
   "source": [
    "def test(dataloader, model, loss_fn):\n",
    "    size = len(dataloader.dataset)\n",
    "    num_batches = len(dataloader)\n",
    "    model.eval()\n",
    "    test_loss, correct = 0, 0\n",
    "    with torch.no_grad():\n",
    "        for X, y in dataloader:\n",
    "            X, y = X.to(device), y.to(device)\n",
    "            pred = model(X)\n",
    "            test_loss += loss_fn(pred, y).item()\n",
    "            correct += (pred.argmax(1) == y).type(torch.float).sum().item()\n",
    "    test_loss /= num_batches\n",
    "    correct /= size\n",
    "    print(f\"Test Error: \\n Accuracy: {(100*correct):>0.1f}%, Avg loss: {test_loss:>8f} \\n\")"
   ]
  },
  {
   "cell_type": "markdown",
   "metadata": {
    "id": "IyEwNx3p9E8U",
    "pycharm": {
     "name": "#%% md\n"
    }
   },
   "source": [
    "###Training & Evaluating Model"
   ]
  },
  {
   "cell_type": "code",
   "execution_count": null,
   "metadata": {
    "id": "gMqLZiXpUlUD",
    "colab": {
     "base_uri": "https://localhost:8080/"
    },
    "outputId": "4e9e25a0-f5bd-4c32-8bd3-d6e089dc8446",
    "pycharm": {
     "name": "#%%\n"
    }
   },
   "outputs": [],
   "source": [
    "epochs = 50\n",
    "\n",
    "prediction_history = torch.zeros(0,60000,10) ## re-defined when train model again\n",
    "prediction_history = prediction_history.to(device) ##\n",
    "\n",
    "for t in range(epochs):\n",
    "    print(f\"Epoch {t+1}\\n-------------------------------\")\n",
    "    train(train_dataloader, model, loss_fn, optimizer)\n",
    "    test(test_dataloader, model, loss_fn)\n",
    "print(\"Done!\")"
   ]
  },
  {
   "cell_type": "code",
   "execution_count": null,
   "metadata": {
    "id": "lJqKbRqgUsDn",
    "colab": {
     "base_uri": "https://localhost:8080/"
    },
    "outputId": "00a7823b-5d3e-4520-e05f-13c4f1d40e2b",
    "pycharm": {
     "name": "#%%\n"
    }
   },
   "outputs": [],
   "source": [
    "model.eval()\n",
    "x, y = test_data[0][0], test_data[0][1]\n",
    "\n",
    "if device ==\"cuda\":\n",
    "  x=x.to(device)\n",
    "\n",
    "with torch.no_grad():\n",
    "    pred = model(x)\n",
    "    predicted, actual = classes[pred[0].argmax(0)], classes[y]\n",
    "    print(f'Predicted: \"{predicted}\", Actual: \"{actual}\"')"
   ]
  },
  {
   "cell_type": "markdown",
   "metadata": {
    "id": "e8rQdtHcRG7A",
    "pycharm": {
     "name": "#%% md\n"
    }
   },
   "source": [
    "### Data Cartography"
   ]
  },
  {
   "cell_type": "code",
   "execution_count": null,
   "metadata": {
    "id": "ZaMJmN3JZID4",
    "pycharm": {
     "name": "#%%\n"
    }
   },
   "outputs": [],
   "source": [
    "num_pred_hist=(torch.softmax(prediction_history,dim=2)).detach().cpu().numpy() ##turning logit values to probability values -> to cpu -> to numpy epoch num * dataset size * class num"
   ]
  },
  {
   "cell_type": "code",
   "execution_count": null,
   "metadata": {
    "id": "gEBd6O7sAR1J",
    "pycharm": {
     "name": "#%%\n"
    }
   },
   "outputs": [],
   "source": [
    "confidence_means=np.mean(num_pred_hist,0)     ## getting confidence means from nmpy\n",
    "std=np.std(num_pred_hist,0)                   ## getting standart deviation from nmpy\n",
    "targets=training_data.targets.cpu().numpy()   ## getting targets from dataset"
   ]
  },
  {
   "cell_type": "code",
   "execution_count": null,
   "metadata": {
    "id": "GOy3eK1PC-4J",
    "pycharm": {
     "name": "#%%\n"
    }
   },
   "outputs": [],
   "source": [
    "df = pd.DataFrame(targets, columns=[\"Label\"])                                                           ## creating dataframe for instance features\n",
    "df[\"Confidence Mean\"] = np.take_along_axis(confidence_means,np.expand_dims(targets, axis=1),axis=1)     ## adding confidence mean \n",
    "df[\"Pred Std\"] = np.take_along_axis(std,np.expand_dims(targets, axis=1),axis=1)                              ## adding std\n",
    "df[\"Last Pred\"]=num_pred_hist[epochs-1].argmax(axis=1)                                                  ## last prediction of model\n",
    "df[\"Last Pred Corr\"]=(df[\"Last Pred\"]==df[\"Label\"])"
   ]
  },
  {
   "cell_type": "code",
   "execution_count": null,
   "metadata": {
    "id": "1MeWBlFpZ9wI",
    "pycharm": {
     "name": "#%%\n"
    }
   },
   "outputs": [],
   "source": [
    "epoch_pred=num_pred_hist.argmax(2).transpose()                                              ## getting which label predicted for every epoch\n",
    "correctness_matrix = ( np.tile(targets,(epochs,1)).transpose() ==epoch_pred).astype(int)    ## getting matrix of either prediction correct\n",
    "df[\"Correctness\"]= correctness_matrix.mean(axis=1)                                          ## Not sure when paper said correctness they mean this !!"
   ]
  },
  {
   "cell_type": "code",
   "source": [
    "df.dtypes"
   ],
   "metadata": {
    "colab": {
     "base_uri": "https://localhost:8080/"
    },
    "id": "dAQbdQEtIZ0l",
    "outputId": "41851d77-9b35-47fa-8eac-b5021ab4bd71",
    "pycharm": {
     "name": "#%%\n"
    }
   },
   "execution_count": null,
   "outputs": []
  },
  {
   "cell_type": "code",
   "execution_count": null,
   "metadata": {
    "colab": {
     "base_uri": "https://localhost:8080/",
     "height": 1000
    },
    "id": "4l4nkqn1L-AK",
    "outputId": "ac7c1d12-2297-49cf-8118-9443cecd7495",
    "pycharm": {
     "name": "#%%\n"
    }
   },
   "outputs": [],
   "source": [
    "fig, axes = plt.subplots(1, 2, figsize=(30, 7),sharex=True,sharey=True)\n",
    "sns.scatterplot(ax=axes[0],data=df,x=\"Pred Std\",y=\"Confidence Mean\",hue=\"Correctness\",palette=\"RdYlGn\")\n",
    "sns.scatterplot(ax=axes[1],data=df, x=\"Pred Std\", y=\"Confidence Mean\",hue=\"Label\",palette=\"tab10\")\n",
    "plt.show()\n",
    "\n",
    "fig, axes = plt.subplots(len(classes)//5, 5, figsize=(30, 12),sharex=True,sharey=True)\n",
    "for i in range(len(classes)):\n",
    "  r,c=i//5,i%5\n",
    "  sns.scatterplot(data = df[df[\"Label\"]==i],ax=axes[r,c] ,x = \"Pred Std\", y=\"Confidence Mean\",hue=\"Correctness\",palette=\"RdYlGn\")\n",
    "  axes[r,c].set_title(classes[i])"
   ]
  },
  {
   "cell_type": "code",
   "execution_count": null,
   "metadata": {
    "id": "NX0X1Q_pF4pH",
    "pycharm": {
     "name": "#%%\n"
    }
   },
   "outputs": [],
   "source": [
    "fig, axes = plt.subplots(len(classes)+1, 2, figsize=(30, (len(classes)+1)*7),sharex=True,sharey=True)\n",
    "\n",
    "sns.kdeplot(ax=axes[0,0], data=df, x=\"Confidence Mean\",hue=\"Label\",palette=\"tab10\") ### plot 2 kde for confidence and std hu=label\n",
    "sns.kdeplot(ax=axes[0,1], data=df, x=\"Pred Std\",hue=\"Label\",palette=\"tab10\") ### plot 2 kde for confidence and std hu=label\n",
    "\n",
    "for i in range(len(classes)):\n",
    "  sns.kdeplot(ax=axes[i,0], data=df[df[\"Label\"]==i],x=\"Confidence Mean\")\n",
    "  sns.kdeplot(ax=axes[i,1], data=df[df[\"Label\"]==i],x=\"Pred Std\")"
   ]
  },
  {
   "cell_type": "code",
   "execution_count": null,
   "metadata": {
    "id": "2srsOgvc2oFs",
    "pycharm": {
     "name": "#%%\n"
    }
   },
   "outputs": [],
   "source": [
    "labels=pd.DataFrame({\"Label\":targets})"
   ]
  },
  {
   "cell_type": "code",
   "execution_count": null,
   "metadata": {
    "colab": {
     "base_uri": "https://localhost:8080/",
     "height": 363
    },
    "id": "gEZ9KnTnA3LF",
    "outputId": "3d441fdd-8078-46f3-cfa1-0ee2b8022b2b",
    "pycharm": {
     "name": "#%%\n"
    }
   },
   "outputs": [],
   "source": [
    "## it creates DF at the bottom instance*epochs -> prediction of correct label\n",
    "pd.DataFrame(np.take_along_axis( num_pred_hist, np.atleast_3d(targets),axis=2).squeeze().transpose(), columns=range(1,epochs+1)).head(10)   "
   ]
  },
  {
   "cell_type": "code",
   "execution_count": null,
   "metadata": {
    "id": "9oAcPHVA2yh3",
    "pycharm": {
     "name": "#%%\n"
    }
   },
   "outputs": [],
   "source": [
    "label_confidence = pd.concat([labels, pd.DataFrame(np.take_along_axis( num_pred_hist, np.atleast_3d(targets),axis=2).squeeze().transpose(), columns=range(1,epochs+1))],axis=1)\n",
    "label_pred_grouped = label_confidence.groupby(\"Label\").mean().transpose()\n",
    "##columns: labels, rows: epoch\n",
    "\n",
    "correctness_df = pd.DataFrame(correctness_matrix,columns=range(1,epochs+1)) \n",
    "correctness_df[\"Label\"]=targets\n",
    "correctness_df_grouped=correctness_df.groupby(\"Label\").mean().transpose()    "
   ]
  },
  {
   "cell_type": "code",
   "execution_count": null,
   "metadata": {
    "colab": {
     "base_uri": "https://localhost:8080/",
     "height": 1000
    },
    "id": "oAI5ZvZ-dYCp",
    "outputId": "6ad85d04-a8c2-43a8-b7a2-e1cf941ad32b",
    "pycharm": {
     "name": "#%%\n"
    }
   },
   "outputs": [],
   "source": [
    "#### Binary Accuracy vs Confidence\n",
    "############### first part\n",
    "\n",
    "fig, axes = plt.subplots(1, 2, figsize=(24, 10),sharex=True)\n",
    "\n",
    "fig.suptitle('History of Classes',size=40)\n",
    "\n",
    "legend=[]\n",
    "for col in label_pred_grouped.columns:\n",
    "  legend.append(classes[col])\n",
    "  sns.lineplot(ax=axes[0],data=label_pred_grouped[col])\n",
    "  axes[0].set_ylim(0, 1)\n",
    "\n",
    "axes[0].legend(legend)\n",
    "axes[0].set_title(\"Confidence of items by labels\")\n",
    "\n",
    "\n",
    "for col in correctness_df_grouped.columns:\n",
    "  sns.lineplot(ax=axes[1],data=correctness_df_grouped[col])\n",
    "\n",
    "axes[1].legend(legend)\n",
    "axes[1].set_title(\"Binary Accuracy of labels\")\n",
    "\n",
    "plt.show()\n",
    "\n",
    "############### second part\n",
    "\n",
    "fig, axes = plt.subplots((len(classes)+2)//3 , 3, figsize=(24, 4*((len(classes)+1)//2)),sharex=True,sharey=True)\n",
    "for num,col in enumerate(label_pred_grouped.columns):\n",
    "  r,c=(num)//3,num%3\n",
    "  sns.lineplot(ax=axes[r,c],data=label_pred_grouped[col])\n",
    "  sns.lineplot(ax=axes[r,c],data=correctness_df_grouped[col])\n",
    "\n",
    "  axes[r,c].legend([\"Confidence Mean\",\"Binary Accuracy\"])\n",
    "  axes[r,c].set_title(classes[col])\n",
    "\n",
    "plt.show()"
   ]
  },
  {
   "cell_type": "markdown",
   "metadata": {
    "id": "ZJ-k6VbGv5OS",
    "pycharm": {
     "name": "#%% md\n"
    }
   },
   "source": [
    "###AUM"
   ]
  },
  {
   "cell_type": "code",
   "execution_count": null,
   "metadata": {
    "id": "vIiowZ93v4nB",
    "pycharm": {
     "name": "#%%\n"
    }
   },
   "outputs": [],
   "source": [
    "num_AUM_history= (deneme.hist_delta_AUM).cpu().numpy()\n",
    "label_logits=num_AUM_history.transpose(2,1,0)[0]                   ##this can be optimized either here or above since we used this and getting was expensive\n",
    "highest_non_logits = num_AUM_history.transpose(2,1,0)[1]\n",
    "AUM_scores = label_logits.mean(axis=1)-highest_non_logits.mean(axis=1)"
   ]
  },
  {
   "cell_type": "code",
   "execution_count": null,
   "metadata": {
    "id": "JVokIp1bv7D5",
    "pycharm": {
     "name": "#%%\n"
    }
   },
   "outputs": [],
   "source": [
    "df[\"AUM\"]=AUM_scores"
   ]
  },
  {
   "cell_type": "code",
   "execution_count": null,
   "metadata": {
    "colab": {
     "base_uri": "https://localhost:8080/",
     "height": 356
    },
    "id": "1w_lOWqM-T1K",
    "outputId": "197ae45c-d31f-4b38-afab-9989258e63f7",
    "pycharm": {
     "name": "#%%\n"
    }
   },
   "outputs": [],
   "source": [
    "#df.AUM.plot.hist()\n",
    "sns.kdeplot(df[\"AUM\"])"
   ]
  },
  {
   "cell_type": "code",
   "source": [
    "df.head()"
   ],
   "metadata": {
    "colab": {
     "base_uri": "https://localhost:8080/",
     "height": 206
    },
    "id": "3FN1NeLSWczE",
    "outputId": "9537383e-a99c-4016-cd12-0b3b042d0e0d",
    "pycharm": {
     "name": "#%%\n"
    }
   },
   "execution_count": null,
   "outputs": []
  },
  {
   "cell_type": "code",
   "source": [
    "selected=[]\n",
    "\n",
    "plt.figure(figsize=(40,10))\n",
    "for i in range(8):\n",
    "  plt.subplot(1,8,i+1)\n",
    "  num=random.randint(0,df.shape[0])\n",
    "  selected.append(num)\n",
    "  plt.xticks([])\n",
    "  plt.yticks([])\n",
    "  plt.grid(False)\n",
    "  plt.imshow(training_data.data[num], cmap=plt.cm.binary)\n",
    "plt.show()\n",
    "\n",
    "fig, axes = plt.subplots(1, 8, figsize=(40, 5),sharex=True,sharey=True)\n",
    "for i in range(8):\n",
    "  num=selected[i]\n",
    "  plt.xlabel(classes[targets[num]])\n",
    "  sns.lineplot(ax=axes[i],x=range(1,epochs+1),y=label_logits[num],color=\"Green\")\n",
    "  sns.lineplot(ax=axes[i],x=range(1,epochs+1),y=highest_non_logits[num],color=\"Red\")\n",
    "\n",
    "\n",
    "  Label = classes[df[\"Label\"][num]]\n",
    "  pred  = classes[df[\"Last Pred\"][num]]\n",
    "  axes[i].set_title(f\"Label: {Label}\\nLast Pred: {pred}\")\n",
    "\n",
    "  axes[i].fill_between(\n",
    "    range(1,epochs+1), label_logits[num], highest_non_logits[num], where=(label_logits[num] > highest_non_logits[num]), \n",
    "    interpolate=True, color=\"green\", alpha=0.25, \n",
    "    label=\"Positive\"\n",
    "  )\n",
    "\n",
    "  axes[i].fill_between(\n",
    "      range(1,epochs+1), label_logits[num], highest_non_logits[num], where=(label_logits[num] <= highest_non_logits[num]), \n",
    "      interpolate=True, color=\"red\", alpha=0.25,\n",
    "      label=\"Negative\"\n",
    "  )"
   ],
   "metadata": {
    "colab": {
     "base_uri": "https://localhost:8080/",
     "height": 499
    },
    "id": "pdpwqU7QBv7f",
    "outputId": "cf887efd-6392-458a-e258-e4387fc69a22",
    "pycharm": {
     "name": "#%%\n"
    }
   },
   "execution_count": null,
   "outputs": []
  },
  {
   "cell_type": "markdown",
   "metadata": {
    "id": "iz0vSSY9SvAo",
    "pycharm": {
     "name": "#%% md\n"
    }
   },
   "source": [
    "###Forgetting"
   ]
  },
  {
   "cell_type": "code",
   "execution_count": null,
   "metadata": {
    "colab": {
     "base_uri": "https://localhost:8080/"
    },
    "id": "eVikXscLUGOm",
    "outputId": "b9ee4769-a37e-419f-f50e-4db0812ec56a",
    "pycharm": {
     "name": "#%%\n"
    }
   },
   "outputs": [],
   "source": [
    "prediction_history.shape"
   ]
  },
  {
   "cell_type": "code",
   "execution_count": null,
   "metadata": {
    "id": "VSsVWt-rUPjd",
    "pycharm": {
     "name": "#%%\n"
    }
   },
   "outputs": [],
   "source": [
    "### 1 forgot -1 learned\n",
    "action = (correctness_matrix[:,:-1]-correctness_matrix[:,1:]) \n",
    "\n",
    "forgots_in_epoch=(action== np.ones(action.shape)).astype(int)\n",
    "learns_in_epoch=(action== -np.ones(action.shape)).astype(int)\n",
    "\n",
    "df[\"Forget Nums\"]=forgots_in_epoch.sum(axis=1)\n",
    "df[\"Learn Nums\"]=learns_in_epoch.sum(axis=1) + correctness_matrix[:,0]\n",
    "\n",
    "forgots=df.index[df[\"Forget Nums\"]!=0]"
   ]
  },
  {
   "cell_type": "code",
   "execution_count": null,
   "metadata": {
    "colab": {
     "base_uri": "https://localhost:8080/"
    },
    "id": "lunfQuniLLdS",
    "outputId": "7a0d52c9-1ad3-4a8b-9aec-0a1126f004f7",
    "pycharm": {
     "name": "#%%\n"
    }
   },
   "outputs": [],
   "source": [
    "print(\"Total forgets during training= \",df[\"Forget Nums\"].sum())\n",
    "print(\"Total forgotten instances during training= \",(df[\"Forget Nums\"]!=0).sum())"
   ]
  },
  {
   "cell_type": "code",
   "execution_count": null,
   "metadata": {
    "colab": {
     "base_uri": "https://localhost:8080/",
     "height": 1000
    },
    "id": "GAttuWJkRbRu",
    "outputId": "de2060ef-de21-4a47-c0d3-f4216deb8c4e",
    "pycharm": {
     "name": "#%%\n"
    }
   },
   "outputs": [],
   "source": [
    "fig, axes = plt.subplots(4, 2, figsize=(24, 30))\n",
    "fig.suptitle('Forget Num Dists',size=40)\n",
    "\n",
    "sns.boxplot(ax=axes[0,0], data=df,x=\"Forget Nums\",y=\"Confidence Mean\")\n",
    "sns.boxplot(ax=axes[0,1],data=df,x=\"Forget Nums\",y=\"Pred Std\")\n",
    "\n",
    "sns.kdeplot(ax=axes[1,0], data=df,x=\"Confidence Mean\",hue=\"Forget Nums\")\n",
    "\n",
    "legend=[]\n",
    "for i in list(df[\"Forget Nums\"].unique()):\n",
    "  sns.kdeplot(ax=axes[1,1], data=df[df[\"Forget Nums\"]==i][\"Confidence Mean\"], shade=True)\n",
    "  legend.append(i)\n",
    "axes[1,1].legend(legend)\n",
    "axes[1,1].set_title(\"Number of forgets-Correct Label Confidence Density\")\n",
    "\n",
    "sns.kdeplot(ax=axes[2,0],data=df,x=\"Pred Std\",hue=\"Forget Nums\")\n",
    "\n",
    "for i in list(df[\"Forget Nums\"].unique()):\n",
    "  sns.kdeplot(ax=axes[2,1], data=df[df[\"Forget Nums\"]==i][\"Pred Std\"], shade=True)\n",
    "  legend.append(i)\n",
    "axes[2,1].legend(legend)\n",
    "axes[2,1].set_title(\"Number of forgets-Correct Label Pred Std\")\n",
    "\n",
    "sns.kdeplot(ax=axes[3,0],data=df,x=\"AUM\",hue=\"Forget Nums\")\n",
    "\n",
    "for i in list(df[\"Forget Nums\"].unique()):\n",
    "  sns.kdeplot(ax=axes[3,1], data=df[df[\"Forget Nums\"]==i][\"AUM\"], shade=True)\n",
    "  legend.append(i)\n",
    "axes[3,1].legend(legend)\n",
    "axes[3,1].set_title(\"Number of forgets-Correct Label Pred Std\")\n",
    "\n",
    "####### THESE WILL BE IMPLEMENTED FOR HUE = LABEL AT THE TOP !!!!!!!!!!!!!!!!!!!!!!!!!!!!!!!!!!!\n",
    "\n",
    "\n",
    "#sns.scatterplot(ax=axes[3,0],data=df, x=\"Pred Std\", y=\"Confidence Mean\", hue=\"Forget Nums\", palette=\"RdYlGn_r\")\n",
    "#sns.scatterplot(ax=axes[3,1],data=df, x=\"Pred Std\", y=\"Confidence Mean\", hue=\"Learn Nums\", palette=\"RdYlGn\")"
   ]
  },
  {
   "cell_type": "code",
   "execution_count": null,
   "metadata": {
    "colab": {
     "base_uri": "https://localhost:8080/",
     "height": 868
    },
    "id": "5sMoP9VgE52_",
    "outputId": "27d27fc6-f7ec-4068-8362-4bc9d02e29f6",
    "pycharm": {
     "name": "#%%\n"
    }
   },
   "outputs": [],
   "source": [
    "forget_nums=list(df[\"Forget Nums\"].unique())\n",
    "fig, axes = plt.subplots((len(forget_nums)-1)//2+1, 2, figsize=(24, 13))\n",
    "\n",
    "fig.suptitle('Data map per Forget Nums',size=25)\n",
    "\n",
    "for num, i in enumerate(forget_nums):\n",
    "  r,c=num//2, num%2\n",
    "  sns.scatterplot(ax=axes[r, c], data=df[df[\"Forget Nums\"]==i], x=\"Pred Std\", y=\"Confidence Mean\", hue=\"Correctness\", palette=\"RdYlGn\", alpha=0.6,)\n",
    "  axes[r, c].set_title(f\"Forget Nums = {i}\")\n",
    "  axes[r, c].set_xlim(left=0, right=0.5)\n",
    "  axes[r, c].set_ylim(bottom=0, top=1);"
   ]
  },
  {
   "cell_type": "code",
   "execution_count": null,
   "metadata": {
    "colab": {
     "base_uri": "https://localhost:8080/",
     "height": 464
    },
    "id": "UFTlWmm281RT",
    "outputId": "c7be14a2-4fc1-488f-8701-26121335631f",
    "pycharm": {
     "name": "#%%\n"
    }
   },
   "outputs": [],
   "source": [
    "def plot_labeled(df,x_axis,y_axis,hue_): \n",
    "\n",
    "    df[\"Forget Nums\"]*=6000\n",
    "\n",
    "    def plotlabel(xvar, yvar, label):\n",
    "        ax.text(xvar+0.003, yvar+0.005, label)\n",
    "        \n",
    "    fig = plt.figure(figsize=(14,7))\n",
    "    ax = sns.scatterplot(x = x_axis, y = y_axis, data=df, s=500, hue=hue_,)\n",
    "\n",
    "    df.apply(lambda x: plotlabel(x[x_axis],  x[y_axis], classes[int(x[\"Label\"])]), axis=1)\n",
    "   \n",
    "    ax.set_xlim(0, 0.3)\n",
    "    ax.set_ylim(0, 1)\n",
    "\n",
    "    plt.title(f\"{y_axis} - {x_axis}\")\n",
    "    plt.xlabel(x_axis)\n",
    "    plt.ylabel(y_axis)\n",
    "\n",
    "#### WARNING STATISTICALLY STD SHOULD NOT BE CALCULATED LIKE THIS //:TODO                                                                 ### ALSO IMPLEMENT FOR ALL DATA SET\n",
    "plot_labeled(df.groupby(\"Label\", as_index =False).mean(), \"Pred Std\",\"Confidence Mean\", \"Forget Nums\")"
   ]
  },
  {
   "cell_type": "markdown",
   "metadata": {
    "id": "uNBqX2ABmYi7",
    "pycharm": {
     "name": "#%% md\n"
    }
   },
   "source": [
    "#### mean preds of label in forgotten"
   ]
  },
  {
   "cell_type": "code",
   "execution_count": null,
   "metadata": {
    "id": "5btJ-WljWhPA",
    "pycharm": {
     "name": "#%%\n"
    }
   },
   "outputs": [],
   "source": [
    "label_pred_forget= label_confidence[df[\"Forget Nums\"]!=0]                                 ## forgotten instances\n",
    "label_pred_forget_grouped = label_pred_forget.groupby(\"Label\").mean().transpose()         ## forgotten instances -> grouped -> transposed\n",
    "\n",
    "correctness_df_forget=correctness_df[df[\"Forget Nums\"]!=0]\n",
    "correctness_df_forget_grouped=correctness_df_forget.groupby(\"Label\").mean().transpose()"
   ]
  },
  {
   "cell_type": "code",
   "execution_count": null,
   "metadata": {
    "colab": {
     "base_uri": "https://localhost:8080/",
     "height": 481
    },
    "id": "kqmNi9WKWcc9",
    "outputId": "380f6b80-594f-4807-c80c-34569a5a5492",
    "pycharm": {
     "name": "#%%\n"
    }
   },
   "outputs": [],
   "source": [
    "fig, axes = plt.subplots(1, 2, figsize=(24, 7))\n",
    "\n",
    "fig.suptitle('History of Forgotten itmes')\n",
    "\n",
    "legend=[]\n",
    "for col in label_pred_forget_grouped.columns:\n",
    "  legend.append(classes[col])\n",
    "  sns.lineplot(ax=axes[0],data=label_pred_forget_grouped[col])\n",
    "  axes[0].set_ylim(0, 1)\n",
    "\n",
    "axes[0].legend(legend)\n",
    "axes[0].set_title(\"Confidence of forgotten items by labels\")\n",
    "\n",
    "\n",
    "for col in correctness_df_forget_grouped.columns:\n",
    "  sns.lineplot(ax=axes[1],data=correctness_df_forget_grouped[col])\n",
    "\n",
    "axes[1].legend(legend)\n",
    "axes[1].set_title(\"Binary Accuracy of labels that have been forgotten at least once\")\n",
    "\n",
    "plt.show()"
   ]
  },
  {
   "cell_type": "code",
   "execution_count": null,
   "metadata": {
    "colab": {
     "base_uri": "https://localhost:8080/",
     "height": 1000
    },
    "id": "6L56iq66ZM5F",
    "outputId": "81e8a774-fe46-4865-c0d3-b471874890f6",
    "pycharm": {
     "name": "#%%\n"
    }
   },
   "outputs": [],
   "source": [
    "fig, axes = plt.subplots((len(classes)+2)//3 , 3, figsize=(24, 5*((len(classes)+1)//2)),sharex=True,sharey=True)\n",
    "fig.suptitle('History of Forgotten items by label', size = 40)\n",
    "for num,col in enumerate(label_pred_forget_grouped.columns):\n",
    "  r,c=(num)//3,num%3\n",
    "  sns.lineplot(ax=axes[r,c],data=label_pred_forget_grouped[col])\n",
    "  sns.lineplot(ax=axes[r,c],data=correctness_df_forget_grouped[col])\n",
    "\n",
    "  axes[r,c].legend([\"Confidence Mean\",\"Binary Accuracy\"])\n",
    "  axes[r,c].set_title(classes[col])"
   ]
  },
  {
   "cell_type": "markdown",
   "metadata": {
    "id": "MTQkfVsM9EXx",
    "pycharm": {
     "name": "#%% md\n"
    }
   },
   "source": [
    "#### distribution of forget events to epochs"
   ]
  },
  {
   "cell_type": "code",
   "execution_count": null,
   "metadata": {
    "colab": {
     "base_uri": "https://localhost:8080/",
     "height": 339
    },
    "id": "993wLZkIhTpx",
    "outputId": "cc590b36-343c-4ccc-83d5-91079f8513a8",
    "pycharm": {
     "name": "#%%\n"
    }
   },
   "outputs": [],
   "source": [
    "sns.lineplot(data=forgots_in_epoch.sum(axis=0))  ##xtics should +=2"
   ]
  },
  {
   "cell_type": "markdown",
   "metadata": {
    "id": "rEf3K362mVwb",
    "pycharm": {
     "name": "#%% md\n"
    }
   },
   "source": [
    "#### ENTROPY"
   ]
  },
  {
   "cell_type": "code",
   "execution_count": null,
   "metadata": {
    "id": "kRJb_EfL-r3x",
    "pycharm": {
     "name": "#%%\n"
    }
   },
   "outputs": [],
   "source": [
    "entropies = pd.DataFrame(entropy(num_pred_hist, qk=None, base=None, axis=2).transpose()) ## got entropy of predictions for every instance in epochs \n",
    "entropies[\"Label\"]=targets\n",
    "df[\"Entropy Mean\"] = entropies.mean(axis=1)    \n",
    "df[\"Entropy Std\"] = entropies.std(axis=1)                                              ## std could work,too. to give how entropy changes"
   ]
  },
  {
   "cell_type": "code",
   "execution_count": null,
   "metadata": {
    "colab": {
     "base_uri": "https://localhost:8080/",
     "height": 356
    },
    "id": "JLGHI4Q7_Aep",
    "outputId": "b7264a73-e52f-41c6-80ad-2a83f3102ab3",
    "pycharm": {
     "name": "#%%\n"
    }
   },
   "outputs": [],
   "source": [
    "sns.scatterplot(data=df, x=\"Pred Std\", y=\"Confidence Mean\", hue=\"Entropy Mean\", palette=\"RdYlGn_r\", alpha=0.6)"
   ]
  },
  {
   "cell_type": "code",
   "execution_count": null,
   "metadata": {
    "colab": {
     "base_uri": "https://localhost:8080/",
     "height": 847
    },
    "id": "zNAe7pYNU_F1",
    "outputId": "20e277cc-7cca-432c-fad7-4a94ec47d8ec",
    "pycharm": {
     "name": "#%%\n"
    }
   },
   "outputs": [],
   "source": [
    "fig, axes = plt.subplots(2 , 2, figsize=(14, 14),sharex=False,sharey=False)\n",
    "\n",
    "sns.scatterplot(ax=axes[0,0], data=df, x=\"Pred Std\", y=\"Confidence Mean\", hue=\"Correctness\", palette=\"RdYlGn\", alpha=0.6)\n",
    "sns.scatterplot(ax=axes[0,1], data=df, x=\"AUM\", y=\"Entropy Mean\", hue=\"Correctness\", palette=\"RdYlGn\", alpha=0.6)\n",
    "sns.scatterplot(ax=axes[1,0], data=df, x=\"Entropy Std\", y=\"Entropy Mean\", hue=\"Correctness\", palette=\"RdYlGn\", alpha=0.6)\n",
    "sns.scatterplot(ax=axes[1,1], data=df, x=\"Entropy Std\", y=\"Entropy Mean\", hue=\"Label\", palette=\"tab10\", alpha=0.6)"
   ]
  },
  {
   "cell_type": "code",
   "execution_count": null,
   "metadata": {
    "colab": {
     "base_uri": "https://localhost:8080/",
     "height": 355
    },
    "id": "nBhTtGfRHEDU",
    "outputId": "9a459996-f6dc-4dac-a719-9300a4b89d3e",
    "pycharm": {
     "name": "#%%\n"
    }
   },
   "outputs": [],
   "source": [
    "entropies.groupby(\"Label\").mean().transpose().plot.line(title=\"Entropy means of labels at each epoch\")"
   ]
  },
  {
   "cell_type": "code",
   "execution_count": null,
   "metadata": {
    "colab": {
     "base_uri": "https://localhost:8080/",
     "height": 628
    },
    "id": "siPx8sE0KMQ3",
    "outputId": "7270aa82-b595-453b-8a95-d9e4023f3652",
    "pycharm": {
     "name": "#%%\n"
    }
   },
   "outputs": [],
   "source": [
    "fig, axes = plt.subplots(1 , 2, figsize=(20, 10),sharex=False,sharey=False)\n",
    "sns.histplot(df[\"Entropy Mean\"],ax=axes[0])\n",
    "sns.histplot(df[\"Entropy Std\"], ax =axes[1])"
   ]
  },
  {
   "cell_type": "markdown",
   "metadata": {
    "id": "LLxVwZTyCexS",
    "pycharm": {
     "name": "#%% md\n"
    }
   },
   "source": [
    "###Last Status"
   ]
  },
  {
   "cell_type": "code",
   "execution_count": null,
   "metadata": {
    "colab": {
     "base_uri": "https://localhost:8080/",
     "height": 206
    },
    "id": "PWBgQkLLBVzQ",
    "outputId": "498f3861-7a84-4d1b-efdd-096eeedb69c2",
    "pycharm": {
     "name": "#%%\n"
    }
   },
   "outputs": [],
   "source": [
    "df.head()"
   ]
  },
  {
   "cell_type": "markdown",
   "metadata": {
    "id": "IBunYE1L-HDO",
    "pycharm": {
     "name": "#%% md\n"
    }
   },
   "source": [
    "#Not Important much"
   ]
  },
  {
   "cell_type": "markdown",
   "metadata": {
    "id": "-th3l72Jss3g",
    "pycharm": {
     "name": "#%% md\n"
    }
   },
   "source": [
    "### Confidence Learning // You can Skip"
   ]
  },
  {
   "cell_type": "code",
   "execution_count": null,
   "metadata": {
    "id": "KntGHujZs8xI",
    "pycharm": {
     "name": "#%%\n"
    }
   },
   "outputs": [],
   "source": [
    "!pip install cleanlab"
   ]
  },
  {
   "cell_type": "code",
   "execution_count": null,
   "metadata": {
    "id": "tXMudif3s1Xm",
    "pycharm": {
     "name": "#%%\n"
    }
   },
   "outputs": [],
   "source": [
    "import requests\n",
    "import io\n",
    "import cleanlab\n",
    "from cleanlab.filter import find_label_issues"
   ]
  },
  {
   "cell_type": "markdown",
   "metadata": {
    "id": "4ggN430wtE69",
    "pycharm": {
     "name": "#%% md\n"
    }
   },
   "source": [
    "#### Health Summary"
   ]
  },
  {
   "cell_type": "code",
   "execution_count": null,
   "metadata": {
    "id": "6KtTAFn5tGje",
    "pycharm": {
     "name": "#%%\n"
    }
   },
   "outputs": [],
   "source": [
    "cleanlab.dataset.health_summary(targets, num_pred_hist[-1], class_names=classes)"
   ]
  },
  {
   "cell_type": "markdown",
   "metadata": {
    "id": "9luCLfYCuMOq",
    "pycharm": {
     "name": "#%% md\n"
    }
   },
   "source": [
    "####Label Scoring"
   ]
  },
  {
   "cell_type": "code",
   "execution_count": null,
   "metadata": {
    "id": "GjhzGSCLuRlB",
    "pycharm": {
     "name": "#%%\n"
    }
   },
   "outputs": [],
   "source": [
    "issues = find_label_issues(labels=targets, pred_probs=num_pred_hist[-1]) ###pred should be updated after cross validation supplied to code !!!!!!\n",
    "print(issues)"
   ]
  },
  {
   "cell_type": "code",
   "execution_count": null,
   "metadata": {
    "id": "1pUA_eDDm2YW",
    "pycharm": {
     "name": "#%%\n"
    }
   },
   "outputs": [],
   "source": [
    "plot_examples(issues[range(15)], 3, 5)"
   ]
  },
  {
   "cell_type": "markdown",
   "metadata": {
    "id": "vWY6AtWPuZId",
    "pycharm": {
     "name": "#%% md\n"
    }
   },
   "source": [
    "####Plot Founded Label Issues"
   ]
  },
  {
   "cell_type": "code",
   "execution_count": null,
   "metadata": {
    "id": "r5mg_v_BucfG",
    "pycharm": {
     "name": "#%%\n"
    }
   },
   "outputs": [],
   "source": [
    "## plot founded label issues\n",
    "plt.figure(figsize=(10,10))\n",
    "for i in range(50,75):\n",
    "  plt.subplot(5,5,i-49)\n",
    "  plt.xticks([])\n",
    "  plt.yticks([])\n",
    "  plt.grid(False)\n",
    "  plt.imshow(training_data.data[issues][i], cmap=plt.cm.binary)\n",
    "  plt.xlabel(classes[targets[issues][i]])\n",
    "plt.show()"
   ]
  },
  {
   "cell_type": "markdown",
   "metadata": {
    "id": "d79H0t-Ev6Wy",
    "pycharm": {
     "name": "#%% md\n"
    }
   },
   "source": [
    "####Overlapping Classess"
   ]
  },
  {
   "cell_type": "code",
   "execution_count": null,
   "metadata": {
    "id": "tQ70hLOF0e3h",
    "pycharm": {
     "name": "#%%\n"
    }
   },
   "outputs": [],
   "source": [
    "import graph_tool as gt"
   ]
  },
  {
   "cell_type": "code",
   "execution_count": null,
   "metadata": {
    "id": "04YkG2Ziv9Ij",
    "pycharm": {
     "name": "#%%\n"
    }
   },
   "outputs": [],
   "source": [
    "##Overlapping Classes\n",
    "overlaps=cleanlab.dataset.find_overlapping_classes(\n",
    "    labels=targets, \n",
    "    class_names=classes,\n",
    "    pred_probs=num_pred_hist[-1])\n",
    "\n",
    "overlaps[\"Joint Probability%\"]=overlaps[\"Joint Probability\"]*100"
   ]
  },
  {
   "cell_type": "code",
   "execution_count": null,
   "metadata": {
    "id": "FXUuLyXg8k92",
    "pycharm": {
     "name": "#%%\n"
    }
   },
   "outputs": [],
   "source": [
    "vals = np.unique(overlaps[['Class Name A', 'Class Name B']])\n",
    "overlap_adj=overlaps.pivot(index='Class Name A', columns='Class Name B', values='Joint Probability%').reindex(columns=vals, index=vals, fill_value=0).fillna(0)\n",
    "overlap_adj+=overlap_adj.transpose()"
   ]
  },
  {
   "cell_type": "code",
   "execution_count": null,
   "metadata": {
    "id": "zvD2ab2WeuCM",
    "pycharm": {
     "name": "#%%\n"
    }
   },
   "outputs": [],
   "source": [
    "overlap_adj.sum(axis=1)"
   ]
  },
  {
   "cell_type": "code",
   "execution_count": null,
   "metadata": {
    "id": "er11P6NwI_vq",
    "pycharm": {
     "name": "#%%\n"
    }
   },
   "outputs": [],
   "source": [
    "fig, ax = plt.subplots(figsize=(14,14)) \n",
    "ax=sns.heatmap(overlap_adj,annot=True,vmin=0,vmax=5, fmt='g',cmap=\"Reds\",linewidths=2)\n",
    "ax.set_title('Joint Probability%',)\n",
    "ax.xaxis.tick_top() # x axis on top\n",
    "ax.xaxis.set_label_position('top')\n",
    "plt.xticks(rotation = 0)\n",
    "plt.yticks(rotation = 0)"
   ]
  },
  {
   "cell_type": "markdown",
   "metadata": {
    "id": "gpwo-AusVxA7",
    "pycharm": {
     "name": "#%% md\n"
    }
   },
   "source": [
    "##clustering"
   ]
  },
  {
   "cell_type": "code",
   "execution_count": null,
   "metadata": {
    "id": "Ra_t8gmLVzP1",
    "pycharm": {
     "name": "#%%\n"
    }
   },
   "outputs": [],
   "source": [
    "df.head()"
   ]
  },
  {
   "cell_type": "code",
   "execution_count": null,
   "metadata": {
    "id": "97ZAkSKyWPoz",
    "pycharm": {
     "name": "#%%\n"
    }
   },
   "outputs": [],
   "source": [
    "from sklearn.cluster import KMeans"
   ]
  },
  {
   "cell_type": "code",
   "execution_count": null,
   "metadata": {
    "id": "hjTYBIJ5V2iz",
    "pycharm": {
     "name": "#%%\n"
    }
   },
   "outputs": [],
   "source": [
    "kmeans = KMeans(n_clusters = 3, random_state = 0)\n",
    "df[\"clusters\"] = kmeans.fit_predict(df)"
   ]
  },
  {
   "cell_type": "code",
   "execution_count": null,
   "metadata": {
    "id": "DF6SR48WWtKm",
    "pycharm": {
     "name": "#%%\n"
    }
   },
   "outputs": [],
   "source": [
    "sns.set(rc={'figure.figsize':(14,7)})\n",
    "sns.scatterplot(data=df, x=\"std\", y=\"Confidence Mean\", hue=\"clusters\", palette=\"deep\")"
   ]
  }
 ],
 "metadata": {
  "accelerator": "GPU",
  "colab": {
   "name": "AUM/Cartography/Forgetting/Confident Learning.ipynb",
   "provenance": [],
   "collapsed_sections": [
    "N4n1vTBq894H",
    "6tKz-NZj8_-6",
    "4ggN430wtE69",
    "9luCLfYCuMOq",
    "d79H0t-Ev6Wy"
   ]
  },
  "gpuClass": "standard",
  "kernelspec": {
   "display_name": "Python 3",
   "name": "python3"
  },
  "language_info": {
   "name": "python"
  },
  "widgets": {
   "application/vnd.jupyter.widget-state+json": {
    "41745c4f97e049d9be417cc7e67bafe1": {
     "model_module": "@jupyter-widgets/controls",
     "model_name": "HBoxModel",
     "model_module_version": "2.0.0",
     "state": {
      "_dom_classes": [],
      "_model_module": "@jupyter-widgets/controls",
      "_model_module_version": "2.0.0",
      "_model_name": "HBoxModel",
      "_view_count": null,
      "_view_module": "@jupyter-widgets/controls",
      "_view_module_version": "2.0.0",
      "_view_name": "HBoxView",
      "box_style": "",
      "children": [
       "IPY_MODEL_2e355d0dc57844949e0de2ae0e54ccdb",
       "IPY_MODEL_a5ec63c207cd4d849258d85b6c1cc340",
       "IPY_MODEL_e1d7196768c146ea9931a7b18a735e8e"
      ],
      "layout": "IPY_MODEL_8cc38840ddee4c8d89d4072ac4c9963d",
      "tabbable": null,
      "tooltip": null
     }
    },
    "2e355d0dc57844949e0de2ae0e54ccdb": {
     "model_module": "@jupyter-widgets/controls",
     "model_name": "HTMLModel",
     "model_module_version": "2.0.0",
     "state": {
      "_dom_classes": [],
      "_model_module": "@jupyter-widgets/controls",
      "_model_module_version": "2.0.0",
      "_model_name": "HTMLModel",
      "_view_count": null,
      "_view_module": "@jupyter-widgets/controls",
      "_view_module_version": "2.0.0",
      "_view_name": "HTMLView",
      "description": "",
      "description_allow_html": false,
      "layout": "IPY_MODEL_d06de6ca1abd4558abaa267b5bd08ac0",
      "placeholder": "​",
      "style": "IPY_MODEL_35eb5c845f294c468d84ba2a16f8484f",
      "tabbable": null,
      "tooltip": null,
      "value": "100%"
     }
    },
    "a5ec63c207cd4d849258d85b6c1cc340": {
     "model_module": "@jupyter-widgets/controls",
     "model_name": "FloatProgressModel",
     "model_module_version": "2.0.0",
     "state": {
      "_dom_classes": [],
      "_model_module": "@jupyter-widgets/controls",
      "_model_module_version": "2.0.0",
      "_model_name": "FloatProgressModel",
      "_view_count": null,
      "_view_module": "@jupyter-widgets/controls",
      "_view_module_version": "2.0.0",
      "_view_name": "ProgressView",
      "bar_style": "success",
      "description": "",
      "description_allow_html": false,
      "layout": "IPY_MODEL_79730c17b8da4934863a1e63c56c3a68",
      "max": 26421880,
      "min": 0,
      "orientation": "horizontal",
      "style": "IPY_MODEL_7a49df0067764714b561a6e424c13377",
      "tabbable": null,
      "tooltip": null,
      "value": 26421880
     }
    },
    "e1d7196768c146ea9931a7b18a735e8e": {
     "model_module": "@jupyter-widgets/controls",
     "model_name": "HTMLModel",
     "model_module_version": "2.0.0",
     "state": {
      "_dom_classes": [],
      "_model_module": "@jupyter-widgets/controls",
      "_model_module_version": "2.0.0",
      "_model_name": "HTMLModel",
      "_view_count": null,
      "_view_module": "@jupyter-widgets/controls",
      "_view_module_version": "2.0.0",
      "_view_name": "HTMLView",
      "description": "",
      "description_allow_html": false,
      "layout": "IPY_MODEL_a7c2c4512c0d4c5cb20f4c0dd6e13ddb",
      "placeholder": "​",
      "style": "IPY_MODEL_51a475de3ace4845ab36893de38ab4f5",
      "tabbable": null,
      "tooltip": null,
      "value": " 26421880/26421880 [00:01&lt;00:00, 27495402.89it/s]"
     }
    },
    "8cc38840ddee4c8d89d4072ac4c9963d": {
     "model_module": "@jupyter-widgets/base",
     "model_name": "LayoutModel",
     "model_module_version": "2.0.0",
     "state": {
      "_model_module": "@jupyter-widgets/base",
      "_model_module_version": "2.0.0",
      "_model_name": "LayoutModel",
      "_view_count": null,
      "_view_module": "@jupyter-widgets/base",
      "_view_module_version": "2.0.0",
      "_view_name": "LayoutView",
      "align_content": null,
      "align_items": null,
      "align_self": null,
      "border_bottom": null,
      "border_left": null,
      "border_right": null,
      "border_top": null,
      "bottom": null,
      "display": null,
      "flex": null,
      "flex_flow": null,
      "grid_area": null,
      "grid_auto_columns": null,
      "grid_auto_flow": null,
      "grid_auto_rows": null,
      "grid_column": null,
      "grid_gap": null,
      "grid_row": null,
      "grid_template_areas": null,
      "grid_template_columns": null,
      "grid_template_rows": null,
      "height": null,
      "justify_content": null,
      "justify_items": null,
      "left": null,
      "margin": null,
      "max_height": null,
      "max_width": null,
      "min_height": null,
      "min_width": null,
      "object_fit": null,
      "object_position": null,
      "order": null,
      "overflow": null,
      "padding": null,
      "right": null,
      "top": null,
      "visibility": null,
      "width": null
     }
    },
    "d06de6ca1abd4558abaa267b5bd08ac0": {
     "model_module": "@jupyter-widgets/base",
     "model_name": "LayoutModel",
     "model_module_version": "2.0.0",
     "state": {
      "_model_module": "@jupyter-widgets/base",
      "_model_module_version": "2.0.0",
      "_model_name": "LayoutModel",
      "_view_count": null,
      "_view_module": "@jupyter-widgets/base",
      "_view_module_version": "2.0.0",
      "_view_name": "LayoutView",
      "align_content": null,
      "align_items": null,
      "align_self": null,
      "border_bottom": null,
      "border_left": null,
      "border_right": null,
      "border_top": null,
      "bottom": null,
      "display": null,
      "flex": null,
      "flex_flow": null,
      "grid_area": null,
      "grid_auto_columns": null,
      "grid_auto_flow": null,
      "grid_auto_rows": null,
      "grid_column": null,
      "grid_gap": null,
      "grid_row": null,
      "grid_template_areas": null,
      "grid_template_columns": null,
      "grid_template_rows": null,
      "height": null,
      "justify_content": null,
      "justify_items": null,
      "left": null,
      "margin": null,
      "max_height": null,
      "max_width": null,
      "min_height": null,
      "min_width": null,
      "object_fit": null,
      "object_position": null,
      "order": null,
      "overflow": null,
      "padding": null,
      "right": null,
      "top": null,
      "visibility": null,
      "width": null
     }
    },
    "35eb5c845f294c468d84ba2a16f8484f": {
     "model_module": "@jupyter-widgets/controls",
     "model_name": "HTMLStyleModel",
     "model_module_version": "2.0.0",
     "state": {
      "_model_module": "@jupyter-widgets/controls",
      "_model_module_version": "2.0.0",
      "_model_name": "HTMLStyleModel",
      "_view_count": null,
      "_view_module": "@jupyter-widgets/base",
      "_view_module_version": "2.0.0",
      "_view_name": "StyleView",
      "background": null,
      "description_width": "",
      "font_size": null,
      "text_color": null
     }
    },
    "79730c17b8da4934863a1e63c56c3a68": {
     "model_module": "@jupyter-widgets/base",
     "model_name": "LayoutModel",
     "model_module_version": "2.0.0",
     "state": {
      "_model_module": "@jupyter-widgets/base",
      "_model_module_version": "2.0.0",
      "_model_name": "LayoutModel",
      "_view_count": null,
      "_view_module": "@jupyter-widgets/base",
      "_view_module_version": "2.0.0",
      "_view_name": "LayoutView",
      "align_content": null,
      "align_items": null,
      "align_self": null,
      "border_bottom": null,
      "border_left": null,
      "border_right": null,
      "border_top": null,
      "bottom": null,
      "display": null,
      "flex": null,
      "flex_flow": null,
      "grid_area": null,
      "grid_auto_columns": null,
      "grid_auto_flow": null,
      "grid_auto_rows": null,
      "grid_column": null,
      "grid_gap": null,
      "grid_row": null,
      "grid_template_areas": null,
      "grid_template_columns": null,
      "grid_template_rows": null,
      "height": null,
      "justify_content": null,
      "justify_items": null,
      "left": null,
      "margin": null,
      "max_height": null,
      "max_width": null,
      "min_height": null,
      "min_width": null,
      "object_fit": null,
      "object_position": null,
      "order": null,
      "overflow": null,
      "padding": null,
      "right": null,
      "top": null,
      "visibility": null,
      "width": null
     }
    },
    "7a49df0067764714b561a6e424c13377": {
     "model_module": "@jupyter-widgets/controls",
     "model_name": "ProgressStyleModel",
     "model_module_version": "2.0.0",
     "state": {
      "_model_module": "@jupyter-widgets/controls",
      "_model_module_version": "2.0.0",
      "_model_name": "ProgressStyleModel",
      "_view_count": null,
      "_view_module": "@jupyter-widgets/base",
      "_view_module_version": "2.0.0",
      "_view_name": "StyleView",
      "bar_color": null,
      "description_width": ""
     }
    },
    "a7c2c4512c0d4c5cb20f4c0dd6e13ddb": {
     "model_module": "@jupyter-widgets/base",
     "model_name": "LayoutModel",
     "model_module_version": "2.0.0",
     "state": {
      "_model_module": "@jupyter-widgets/base",
      "_model_module_version": "2.0.0",
      "_model_name": "LayoutModel",
      "_view_count": null,
      "_view_module": "@jupyter-widgets/base",
      "_view_module_version": "2.0.0",
      "_view_name": "LayoutView",
      "align_content": null,
      "align_items": null,
      "align_self": null,
      "border_bottom": null,
      "border_left": null,
      "border_right": null,
      "border_top": null,
      "bottom": null,
      "display": null,
      "flex": null,
      "flex_flow": null,
      "grid_area": null,
      "grid_auto_columns": null,
      "grid_auto_flow": null,
      "grid_auto_rows": null,
      "grid_column": null,
      "grid_gap": null,
      "grid_row": null,
      "grid_template_areas": null,
      "grid_template_columns": null,
      "grid_template_rows": null,
      "height": null,
      "justify_content": null,
      "justify_items": null,
      "left": null,
      "margin": null,
      "max_height": null,
      "max_width": null,
      "min_height": null,
      "min_width": null,
      "object_fit": null,
      "object_position": null,
      "order": null,
      "overflow": null,
      "padding": null,
      "right": null,
      "top": null,
      "visibility": null,
      "width": null
     }
    },
    "51a475de3ace4845ab36893de38ab4f5": {
     "model_module": "@jupyter-widgets/controls",
     "model_name": "HTMLStyleModel",
     "model_module_version": "2.0.0",
     "state": {
      "_model_module": "@jupyter-widgets/controls",
      "_model_module_version": "2.0.0",
      "_model_name": "HTMLStyleModel",
      "_view_count": null,
      "_view_module": "@jupyter-widgets/base",
      "_view_module_version": "2.0.0",
      "_view_name": "StyleView",
      "background": null,
      "description_width": "",
      "font_size": null,
      "text_color": null
     }
    },
    "f3d75f3ae2bb4a8d9902460179a5d82d": {
     "model_module": "@jupyter-widgets/controls",
     "model_name": "HBoxModel",
     "model_module_version": "2.0.0",
     "state": {
      "_dom_classes": [],
      "_model_module": "@jupyter-widgets/controls",
      "_model_module_version": "2.0.0",
      "_model_name": "HBoxModel",
      "_view_count": null,
      "_view_module": "@jupyter-widgets/controls",
      "_view_module_version": "2.0.0",
      "_view_name": "HBoxView",
      "box_style": "",
      "children": [
       "IPY_MODEL_4a1a795b3ae04399b876baa35b183447",
       "IPY_MODEL_5e16580320814c5fad689d4f5fd37f86",
       "IPY_MODEL_c790619163aa45798c2fc8a507225deb"
      ],
      "layout": "IPY_MODEL_14c2c388a2604723a5ada7105557cfd7",
      "tabbable": null,
      "tooltip": null
     }
    },
    "4a1a795b3ae04399b876baa35b183447": {
     "model_module": "@jupyter-widgets/controls",
     "model_name": "HTMLModel",
     "model_module_version": "2.0.0",
     "state": {
      "_dom_classes": [],
      "_model_module": "@jupyter-widgets/controls",
      "_model_module_version": "2.0.0",
      "_model_name": "HTMLModel",
      "_view_count": null,
      "_view_module": "@jupyter-widgets/controls",
      "_view_module_version": "2.0.0",
      "_view_name": "HTMLView",
      "description": "",
      "description_allow_html": false,
      "layout": "IPY_MODEL_8adf504d01244c21a9f3ca502c4b1c40",
      "placeholder": "​",
      "style": "IPY_MODEL_0c091e37f85d4fd2b80ad0324894bafa",
      "tabbable": null,
      "tooltip": null,
      "value": "100%"
     }
    },
    "5e16580320814c5fad689d4f5fd37f86": {
     "model_module": "@jupyter-widgets/controls",
     "model_name": "FloatProgressModel",
     "model_module_version": "2.0.0",
     "state": {
      "_dom_classes": [],
      "_model_module": "@jupyter-widgets/controls",
      "_model_module_version": "2.0.0",
      "_model_name": "FloatProgressModel",
      "_view_count": null,
      "_view_module": "@jupyter-widgets/controls",
      "_view_module_version": "2.0.0",
      "_view_name": "ProgressView",
      "bar_style": "success",
      "description": "",
      "description_allow_html": false,
      "layout": "IPY_MODEL_0698d2d24e1d43aa9b54e6a842eb1585",
      "max": 29515,
      "min": 0,
      "orientation": "horizontal",
      "style": "IPY_MODEL_b23ed5aa3dad4e288cbd2451f4a8b1c6",
      "tabbable": null,
      "tooltip": null,
      "value": 29515
     }
    },
    "c790619163aa45798c2fc8a507225deb": {
     "model_module": "@jupyter-widgets/controls",
     "model_name": "HTMLModel",
     "model_module_version": "2.0.0",
     "state": {
      "_dom_classes": [],
      "_model_module": "@jupyter-widgets/controls",
      "_model_module_version": "2.0.0",
      "_model_name": "HTMLModel",
      "_view_count": null,
      "_view_module": "@jupyter-widgets/controls",
      "_view_module_version": "2.0.0",
      "_view_name": "HTMLView",
      "description": "",
      "description_allow_html": false,
      "layout": "IPY_MODEL_92ff48e9e3c4444b92eab355e5c027bb",
      "placeholder": "​",
      "style": "IPY_MODEL_9529907eaf7845bc806ec9f05dfcb488",
      "tabbable": null,
      "tooltip": null,
      "value": " 29515/29515 [00:00&lt;00:00, 225562.67it/s]"
     }
    },
    "14c2c388a2604723a5ada7105557cfd7": {
     "model_module": "@jupyter-widgets/base",
     "model_name": "LayoutModel",
     "model_module_version": "2.0.0",
     "state": {
      "_model_module": "@jupyter-widgets/base",
      "_model_module_version": "2.0.0",
      "_model_name": "LayoutModel",
      "_view_count": null,
      "_view_module": "@jupyter-widgets/base",
      "_view_module_version": "2.0.0",
      "_view_name": "LayoutView",
      "align_content": null,
      "align_items": null,
      "align_self": null,
      "border_bottom": null,
      "border_left": null,
      "border_right": null,
      "border_top": null,
      "bottom": null,
      "display": null,
      "flex": null,
      "flex_flow": null,
      "grid_area": null,
      "grid_auto_columns": null,
      "grid_auto_flow": null,
      "grid_auto_rows": null,
      "grid_column": null,
      "grid_gap": null,
      "grid_row": null,
      "grid_template_areas": null,
      "grid_template_columns": null,
      "grid_template_rows": null,
      "height": null,
      "justify_content": null,
      "justify_items": null,
      "left": null,
      "margin": null,
      "max_height": null,
      "max_width": null,
      "min_height": null,
      "min_width": null,
      "object_fit": null,
      "object_position": null,
      "order": null,
      "overflow": null,
      "padding": null,
      "right": null,
      "top": null,
      "visibility": null,
      "width": null
     }
    },
    "8adf504d01244c21a9f3ca502c4b1c40": {
     "model_module": "@jupyter-widgets/base",
     "model_name": "LayoutModel",
     "model_module_version": "2.0.0",
     "state": {
      "_model_module": "@jupyter-widgets/base",
      "_model_module_version": "2.0.0",
      "_model_name": "LayoutModel",
      "_view_count": null,
      "_view_module": "@jupyter-widgets/base",
      "_view_module_version": "2.0.0",
      "_view_name": "LayoutView",
      "align_content": null,
      "align_items": null,
      "align_self": null,
      "border_bottom": null,
      "border_left": null,
      "border_right": null,
      "border_top": null,
      "bottom": null,
      "display": null,
      "flex": null,
      "flex_flow": null,
      "grid_area": null,
      "grid_auto_columns": null,
      "grid_auto_flow": null,
      "grid_auto_rows": null,
      "grid_column": null,
      "grid_gap": null,
      "grid_row": null,
      "grid_template_areas": null,
      "grid_template_columns": null,
      "grid_template_rows": null,
      "height": null,
      "justify_content": null,
      "justify_items": null,
      "left": null,
      "margin": null,
      "max_height": null,
      "max_width": null,
      "min_height": null,
      "min_width": null,
      "object_fit": null,
      "object_position": null,
      "order": null,
      "overflow": null,
      "padding": null,
      "right": null,
      "top": null,
      "visibility": null,
      "width": null
     }
    },
    "0c091e37f85d4fd2b80ad0324894bafa": {
     "model_module": "@jupyter-widgets/controls",
     "model_name": "HTMLStyleModel",
     "model_module_version": "2.0.0",
     "state": {
      "_model_module": "@jupyter-widgets/controls",
      "_model_module_version": "2.0.0",
      "_model_name": "HTMLStyleModel",
      "_view_count": null,
      "_view_module": "@jupyter-widgets/base",
      "_view_module_version": "2.0.0",
      "_view_name": "StyleView",
      "background": null,
      "description_width": "",
      "font_size": null,
      "text_color": null
     }
    },
    "0698d2d24e1d43aa9b54e6a842eb1585": {
     "model_module": "@jupyter-widgets/base",
     "model_name": "LayoutModel",
     "model_module_version": "2.0.0",
     "state": {
      "_model_module": "@jupyter-widgets/base",
      "_model_module_version": "2.0.0",
      "_model_name": "LayoutModel",
      "_view_count": null,
      "_view_module": "@jupyter-widgets/base",
      "_view_module_version": "2.0.0",
      "_view_name": "LayoutView",
      "align_content": null,
      "align_items": null,
      "align_self": null,
      "border_bottom": null,
      "border_left": null,
      "border_right": null,
      "border_top": null,
      "bottom": null,
      "display": null,
      "flex": null,
      "flex_flow": null,
      "grid_area": null,
      "grid_auto_columns": null,
      "grid_auto_flow": null,
      "grid_auto_rows": null,
      "grid_column": null,
      "grid_gap": null,
      "grid_row": null,
      "grid_template_areas": null,
      "grid_template_columns": null,
      "grid_template_rows": null,
      "height": null,
      "justify_content": null,
      "justify_items": null,
      "left": null,
      "margin": null,
      "max_height": null,
      "max_width": null,
      "min_height": null,
      "min_width": null,
      "object_fit": null,
      "object_position": null,
      "order": null,
      "overflow": null,
      "padding": null,
      "right": null,
      "top": null,
      "visibility": null,
      "width": null
     }
    },
    "b23ed5aa3dad4e288cbd2451f4a8b1c6": {
     "model_module": "@jupyter-widgets/controls",
     "model_name": "ProgressStyleModel",
     "model_module_version": "2.0.0",
     "state": {
      "_model_module": "@jupyter-widgets/controls",
      "_model_module_version": "2.0.0",
      "_model_name": "ProgressStyleModel",
      "_view_count": null,
      "_view_module": "@jupyter-widgets/base",
      "_view_module_version": "2.0.0",
      "_view_name": "StyleView",
      "bar_color": null,
      "description_width": ""
     }
    },
    "92ff48e9e3c4444b92eab355e5c027bb": {
     "model_module": "@jupyter-widgets/base",
     "model_name": "LayoutModel",
     "model_module_version": "2.0.0",
     "state": {
      "_model_module": "@jupyter-widgets/base",
      "_model_module_version": "2.0.0",
      "_model_name": "LayoutModel",
      "_view_count": null,
      "_view_module": "@jupyter-widgets/base",
      "_view_module_version": "2.0.0",
      "_view_name": "LayoutView",
      "align_content": null,
      "align_items": null,
      "align_self": null,
      "border_bottom": null,
      "border_left": null,
      "border_right": null,
      "border_top": null,
      "bottom": null,
      "display": null,
      "flex": null,
      "flex_flow": null,
      "grid_area": null,
      "grid_auto_columns": null,
      "grid_auto_flow": null,
      "grid_auto_rows": null,
      "grid_column": null,
      "grid_gap": null,
      "grid_row": null,
      "grid_template_areas": null,
      "grid_template_columns": null,
      "grid_template_rows": null,
      "height": null,
      "justify_content": null,
      "justify_items": null,
      "left": null,
      "margin": null,
      "max_height": null,
      "max_width": null,
      "min_height": null,
      "min_width": null,
      "object_fit": null,
      "object_position": null,
      "order": null,
      "overflow": null,
      "padding": null,
      "right": null,
      "top": null,
      "visibility": null,
      "width": null
     }
    },
    "9529907eaf7845bc806ec9f05dfcb488": {
     "model_module": "@jupyter-widgets/controls",
     "model_name": "HTMLStyleModel",
     "model_module_version": "2.0.0",
     "state": {
      "_model_module": "@jupyter-widgets/controls",
      "_model_module_version": "2.0.0",
      "_model_name": "HTMLStyleModel",
      "_view_count": null,
      "_view_module": "@jupyter-widgets/base",
      "_view_module_version": "2.0.0",
      "_view_name": "StyleView",
      "background": null,
      "description_width": "",
      "font_size": null,
      "text_color": null
     }
    },
    "fede23cfa049492aafc7094d97f4c406": {
     "model_module": "@jupyter-widgets/controls",
     "model_name": "HBoxModel",
     "model_module_version": "2.0.0",
     "state": {
      "_dom_classes": [],
      "_model_module": "@jupyter-widgets/controls",
      "_model_module_version": "2.0.0",
      "_model_name": "HBoxModel",
      "_view_count": null,
      "_view_module": "@jupyter-widgets/controls",
      "_view_module_version": "2.0.0",
      "_view_name": "HBoxView",
      "box_style": "",
      "children": [
       "IPY_MODEL_c000acdccd664f5285e98d6e3b121928",
       "IPY_MODEL_413c7265ef56430f83af0fa8d454cb4e",
       "IPY_MODEL_62a20b95d54742c292c7387a00ba8ab9"
      ],
      "layout": "IPY_MODEL_f4edcb32ec2f451f8971e7ac97375819",
      "tabbable": null,
      "tooltip": null
     }
    },
    "c000acdccd664f5285e98d6e3b121928": {
     "model_module": "@jupyter-widgets/controls",
     "model_name": "HTMLModel",
     "model_module_version": "2.0.0",
     "state": {
      "_dom_classes": [],
      "_model_module": "@jupyter-widgets/controls",
      "_model_module_version": "2.0.0",
      "_model_name": "HTMLModel",
      "_view_count": null,
      "_view_module": "@jupyter-widgets/controls",
      "_view_module_version": "2.0.0",
      "_view_name": "HTMLView",
      "description": "",
      "description_allow_html": false,
      "layout": "IPY_MODEL_ebc208e361aa4c15971c124c46e3c84c",
      "placeholder": "​",
      "style": "IPY_MODEL_66b93ce92c264d88b06ccdb47b99582b",
      "tabbable": null,
      "tooltip": null,
      "value": "100%"
     }
    },
    "413c7265ef56430f83af0fa8d454cb4e": {
     "model_module": "@jupyter-widgets/controls",
     "model_name": "FloatProgressModel",
     "model_module_version": "2.0.0",
     "state": {
      "_dom_classes": [],
      "_model_module": "@jupyter-widgets/controls",
      "_model_module_version": "2.0.0",
      "_model_name": "FloatProgressModel",
      "_view_count": null,
      "_view_module": "@jupyter-widgets/controls",
      "_view_module_version": "2.0.0",
      "_view_name": "ProgressView",
      "bar_style": "success",
      "description": "",
      "description_allow_html": false,
      "layout": "IPY_MODEL_8492f836b1e54996bf6c5d540b87ca75",
      "max": 4422102,
      "min": 0,
      "orientation": "horizontal",
      "style": "IPY_MODEL_e807208ef76542d481fb30598c73d66a",
      "tabbable": null,
      "tooltip": null,
      "value": 4422102
     }
    },
    "62a20b95d54742c292c7387a00ba8ab9": {
     "model_module": "@jupyter-widgets/controls",
     "model_name": "HTMLModel",
     "model_module_version": "2.0.0",
     "state": {
      "_dom_classes": [],
      "_model_module": "@jupyter-widgets/controls",
      "_model_module_version": "2.0.0",
      "_model_name": "HTMLModel",
      "_view_count": null,
      "_view_module": "@jupyter-widgets/controls",
      "_view_module_version": "2.0.0",
      "_view_name": "HTMLView",
      "description": "",
      "description_allow_html": false,
      "layout": "IPY_MODEL_cbec24726ae04da3b2903a4ff20189cd",
      "placeholder": "​",
      "style": "IPY_MODEL_d7a3a19b8a1048c0862c490b62bcaa33",
      "tabbable": null,
      "tooltip": null,
      "value": " 4422102/4422102 [00:00&lt;00:00, 4912681.56it/s]"
     }
    },
    "f4edcb32ec2f451f8971e7ac97375819": {
     "model_module": "@jupyter-widgets/base",
     "model_name": "LayoutModel",
     "model_module_version": "2.0.0",
     "state": {
      "_model_module": "@jupyter-widgets/base",
      "_model_module_version": "2.0.0",
      "_model_name": "LayoutModel",
      "_view_count": null,
      "_view_module": "@jupyter-widgets/base",
      "_view_module_version": "2.0.0",
      "_view_name": "LayoutView",
      "align_content": null,
      "align_items": null,
      "align_self": null,
      "border_bottom": null,
      "border_left": null,
      "border_right": null,
      "border_top": null,
      "bottom": null,
      "display": null,
      "flex": null,
      "flex_flow": null,
      "grid_area": null,
      "grid_auto_columns": null,
      "grid_auto_flow": null,
      "grid_auto_rows": null,
      "grid_column": null,
      "grid_gap": null,
      "grid_row": null,
      "grid_template_areas": null,
      "grid_template_columns": null,
      "grid_template_rows": null,
      "height": null,
      "justify_content": null,
      "justify_items": null,
      "left": null,
      "margin": null,
      "max_height": null,
      "max_width": null,
      "min_height": null,
      "min_width": null,
      "object_fit": null,
      "object_position": null,
      "order": null,
      "overflow": null,
      "padding": null,
      "right": null,
      "top": null,
      "visibility": null,
      "width": null
     }
    },
    "ebc208e361aa4c15971c124c46e3c84c": {
     "model_module": "@jupyter-widgets/base",
     "model_name": "LayoutModel",
     "model_module_version": "2.0.0",
     "state": {
      "_model_module": "@jupyter-widgets/base",
      "_model_module_version": "2.0.0",
      "_model_name": "LayoutModel",
      "_view_count": null,
      "_view_module": "@jupyter-widgets/base",
      "_view_module_version": "2.0.0",
      "_view_name": "LayoutView",
      "align_content": null,
      "align_items": null,
      "align_self": null,
      "border_bottom": null,
      "border_left": null,
      "border_right": null,
      "border_top": null,
      "bottom": null,
      "display": null,
      "flex": null,
      "flex_flow": null,
      "grid_area": null,
      "grid_auto_columns": null,
      "grid_auto_flow": null,
      "grid_auto_rows": null,
      "grid_column": null,
      "grid_gap": null,
      "grid_row": null,
      "grid_template_areas": null,
      "grid_template_columns": null,
      "grid_template_rows": null,
      "height": null,
      "justify_content": null,
      "justify_items": null,
      "left": null,
      "margin": null,
      "max_height": null,
      "max_width": null,
      "min_height": null,
      "min_width": null,
      "object_fit": null,
      "object_position": null,
      "order": null,
      "overflow": null,
      "padding": null,
      "right": null,
      "top": null,
      "visibility": null,
      "width": null
     }
    },
    "66b93ce92c264d88b06ccdb47b99582b": {
     "model_module": "@jupyter-widgets/controls",
     "model_name": "HTMLStyleModel",
     "model_module_version": "2.0.0",
     "state": {
      "_model_module": "@jupyter-widgets/controls",
      "_model_module_version": "2.0.0",
      "_model_name": "HTMLStyleModel",
      "_view_count": null,
      "_view_module": "@jupyter-widgets/base",
      "_view_module_version": "2.0.0",
      "_view_name": "StyleView",
      "background": null,
      "description_width": "",
      "font_size": null,
      "text_color": null
     }
    },
    "8492f836b1e54996bf6c5d540b87ca75": {
     "model_module": "@jupyter-widgets/base",
     "model_name": "LayoutModel",
     "model_module_version": "2.0.0",
     "state": {
      "_model_module": "@jupyter-widgets/base",
      "_model_module_version": "2.0.0",
      "_model_name": "LayoutModel",
      "_view_count": null,
      "_view_module": "@jupyter-widgets/base",
      "_view_module_version": "2.0.0",
      "_view_name": "LayoutView",
      "align_content": null,
      "align_items": null,
      "align_self": null,
      "border_bottom": null,
      "border_left": null,
      "border_right": null,
      "border_top": null,
      "bottom": null,
      "display": null,
      "flex": null,
      "flex_flow": null,
      "grid_area": null,
      "grid_auto_columns": null,
      "grid_auto_flow": null,
      "grid_auto_rows": null,
      "grid_column": null,
      "grid_gap": null,
      "grid_row": null,
      "grid_template_areas": null,
      "grid_template_columns": null,
      "grid_template_rows": null,
      "height": null,
      "justify_content": null,
      "justify_items": null,
      "left": null,
      "margin": null,
      "max_height": null,
      "max_width": null,
      "min_height": null,
      "min_width": null,
      "object_fit": null,
      "object_position": null,
      "order": null,
      "overflow": null,
      "padding": null,
      "right": null,
      "top": null,
      "visibility": null,
      "width": null
     }
    },
    "e807208ef76542d481fb30598c73d66a": {
     "model_module": "@jupyter-widgets/controls",
     "model_name": "ProgressStyleModel",
     "model_module_version": "2.0.0",
     "state": {
      "_model_module": "@jupyter-widgets/controls",
      "_model_module_version": "2.0.0",
      "_model_name": "ProgressStyleModel",
      "_view_count": null,
      "_view_module": "@jupyter-widgets/base",
      "_view_module_version": "2.0.0",
      "_view_name": "StyleView",
      "bar_color": null,
      "description_width": ""
     }
    },
    "cbec24726ae04da3b2903a4ff20189cd": {
     "model_module": "@jupyter-widgets/base",
     "model_name": "LayoutModel",
     "model_module_version": "2.0.0",
     "state": {
      "_model_module": "@jupyter-widgets/base",
      "_model_module_version": "2.0.0",
      "_model_name": "LayoutModel",
      "_view_count": null,
      "_view_module": "@jupyter-widgets/base",
      "_view_module_version": "2.0.0",
      "_view_name": "LayoutView",
      "align_content": null,
      "align_items": null,
      "align_self": null,
      "border_bottom": null,
      "border_left": null,
      "border_right": null,
      "border_top": null,
      "bottom": null,
      "display": null,
      "flex": null,
      "flex_flow": null,
      "grid_area": null,
      "grid_auto_columns": null,
      "grid_auto_flow": null,
      "grid_auto_rows": null,
      "grid_column": null,
      "grid_gap": null,
      "grid_row": null,
      "grid_template_areas": null,
      "grid_template_columns": null,
      "grid_template_rows": null,
      "height": null,
      "justify_content": null,
      "justify_items": null,
      "left": null,
      "margin": null,
      "max_height": null,
      "max_width": null,
      "min_height": null,
      "min_width": null,
      "object_fit": null,
      "object_position": null,
      "order": null,
      "overflow": null,
      "padding": null,
      "right": null,
      "top": null,
      "visibility": null,
      "width": null
     }
    },
    "d7a3a19b8a1048c0862c490b62bcaa33": {
     "model_module": "@jupyter-widgets/controls",
     "model_name": "HTMLStyleModel",
     "model_module_version": "2.0.0",
     "state": {
      "_model_module": "@jupyter-widgets/controls",
      "_model_module_version": "2.0.0",
      "_model_name": "HTMLStyleModel",
      "_view_count": null,
      "_view_module": "@jupyter-widgets/base",
      "_view_module_version": "2.0.0",
      "_view_name": "StyleView",
      "background": null,
      "description_width": "",
      "font_size": null,
      "text_color": null
     }
    },
    "756a7808b4a84b9bbe7a922992f4d5d3": {
     "model_module": "@jupyter-widgets/controls",
     "model_name": "HBoxModel",
     "model_module_version": "2.0.0",
     "state": {
      "_dom_classes": [],
      "_model_module": "@jupyter-widgets/controls",
      "_model_module_version": "2.0.0",
      "_model_name": "HBoxModel",
      "_view_count": null,
      "_view_module": "@jupyter-widgets/controls",
      "_view_module_version": "2.0.0",
      "_view_name": "HBoxView",
      "box_style": "",
      "children": [
       "IPY_MODEL_4a5803641eb04ad0a5cf84aea3abccf2",
       "IPY_MODEL_a8021ef89c6e40748707d6f9de0318e5",
       "IPY_MODEL_7a5b660504c24187ace96bd9719deef7"
      ],
      "layout": "IPY_MODEL_6da4046a2c9244498a60267f41d51b37",
      "tabbable": null,
      "tooltip": null
     }
    },
    "4a5803641eb04ad0a5cf84aea3abccf2": {
     "model_module": "@jupyter-widgets/controls",
     "model_name": "HTMLModel",
     "model_module_version": "2.0.0",
     "state": {
      "_dom_classes": [],
      "_model_module": "@jupyter-widgets/controls",
      "_model_module_version": "2.0.0",
      "_model_name": "HTMLModel",
      "_view_count": null,
      "_view_module": "@jupyter-widgets/controls",
      "_view_module_version": "2.0.0",
      "_view_name": "HTMLView",
      "description": "",
      "description_allow_html": false,
      "layout": "IPY_MODEL_fdea6a9197574c80a8bd8489546f10fd",
      "placeholder": "​",
      "style": "IPY_MODEL_6b53014532a34628bbcef99d495fdb95",
      "tabbable": null,
      "tooltip": null,
      "value": "100%"
     }
    },
    "a8021ef89c6e40748707d6f9de0318e5": {
     "model_module": "@jupyter-widgets/controls",
     "model_name": "FloatProgressModel",
     "model_module_version": "2.0.0",
     "state": {
      "_dom_classes": [],
      "_model_module": "@jupyter-widgets/controls",
      "_model_module_version": "2.0.0",
      "_model_name": "FloatProgressModel",
      "_view_count": null,
      "_view_module": "@jupyter-widgets/controls",
      "_view_module_version": "2.0.0",
      "_view_name": "ProgressView",
      "bar_style": "success",
      "description": "",
      "description_allow_html": false,
      "layout": "IPY_MODEL_c5c4ccbde3e845a09ba532a2338cee38",
      "max": 5148,
      "min": 0,
      "orientation": "horizontal",
      "style": "IPY_MODEL_d504426d25f24999a40d2e3d8212a9cc",
      "tabbable": null,
      "tooltip": null,
      "value": 5148
     }
    },
    "7a5b660504c24187ace96bd9719deef7": {
     "model_module": "@jupyter-widgets/controls",
     "model_name": "HTMLModel",
     "model_module_version": "2.0.0",
     "state": {
      "_dom_classes": [],
      "_model_module": "@jupyter-widgets/controls",
      "_model_module_version": "2.0.0",
      "_model_name": "HTMLModel",
      "_view_count": null,
      "_view_module": "@jupyter-widgets/controls",
      "_view_module_version": "2.0.0",
      "_view_name": "HTMLView",
      "description": "",
      "description_allow_html": false,
      "layout": "IPY_MODEL_c4cc8337c96445a997db66de81889588",
      "placeholder": "​",
      "style": "IPY_MODEL_7202da09f5214a699f740f519e9860ce",
      "tabbable": null,
      "tooltip": null,
      "value": " 5148/5148 [00:00&lt;00:00, 36457.80it/s]"
     }
    },
    "6da4046a2c9244498a60267f41d51b37": {
     "model_module": "@jupyter-widgets/base",
     "model_name": "LayoutModel",
     "model_module_version": "2.0.0",
     "state": {
      "_model_module": "@jupyter-widgets/base",
      "_model_module_version": "2.0.0",
      "_model_name": "LayoutModel",
      "_view_count": null,
      "_view_module": "@jupyter-widgets/base",
      "_view_module_version": "2.0.0",
      "_view_name": "LayoutView",
      "align_content": null,
      "align_items": null,
      "align_self": null,
      "border_bottom": null,
      "border_left": null,
      "border_right": null,
      "border_top": null,
      "bottom": null,
      "display": null,
      "flex": null,
      "flex_flow": null,
      "grid_area": null,
      "grid_auto_columns": null,
      "grid_auto_flow": null,
      "grid_auto_rows": null,
      "grid_column": null,
      "grid_gap": null,
      "grid_row": null,
      "grid_template_areas": null,
      "grid_template_columns": null,
      "grid_template_rows": null,
      "height": null,
      "justify_content": null,
      "justify_items": null,
      "left": null,
      "margin": null,
      "max_height": null,
      "max_width": null,
      "min_height": null,
      "min_width": null,
      "object_fit": null,
      "object_position": null,
      "order": null,
      "overflow": null,
      "padding": null,
      "right": null,
      "top": null,
      "visibility": null,
      "width": null
     }
    },
    "fdea6a9197574c80a8bd8489546f10fd": {
     "model_module": "@jupyter-widgets/base",
     "model_name": "LayoutModel",
     "model_module_version": "2.0.0",
     "state": {
      "_model_module": "@jupyter-widgets/base",
      "_model_module_version": "2.0.0",
      "_model_name": "LayoutModel",
      "_view_count": null,
      "_view_module": "@jupyter-widgets/base",
      "_view_module_version": "2.0.0",
      "_view_name": "LayoutView",
      "align_content": null,
      "align_items": null,
      "align_self": null,
      "border_bottom": null,
      "border_left": null,
      "border_right": null,
      "border_top": null,
      "bottom": null,
      "display": null,
      "flex": null,
      "flex_flow": null,
      "grid_area": null,
      "grid_auto_columns": null,
      "grid_auto_flow": null,
      "grid_auto_rows": null,
      "grid_column": null,
      "grid_gap": null,
      "grid_row": null,
      "grid_template_areas": null,
      "grid_template_columns": null,
      "grid_template_rows": null,
      "height": null,
      "justify_content": null,
      "justify_items": null,
      "left": null,
      "margin": null,
      "max_height": null,
      "max_width": null,
      "min_height": null,
      "min_width": null,
      "object_fit": null,
      "object_position": null,
      "order": null,
      "overflow": null,
      "padding": null,
      "right": null,
      "top": null,
      "visibility": null,
      "width": null
     }
    },
    "6b53014532a34628bbcef99d495fdb95": {
     "model_module": "@jupyter-widgets/controls",
     "model_name": "HTMLStyleModel",
     "model_module_version": "2.0.0",
     "state": {
      "_model_module": "@jupyter-widgets/controls",
      "_model_module_version": "2.0.0",
      "_model_name": "HTMLStyleModel",
      "_view_count": null,
      "_view_module": "@jupyter-widgets/base",
      "_view_module_version": "2.0.0",
      "_view_name": "StyleView",
      "background": null,
      "description_width": "",
      "font_size": null,
      "text_color": null
     }
    },
    "c5c4ccbde3e845a09ba532a2338cee38": {
     "model_module": "@jupyter-widgets/base",
     "model_name": "LayoutModel",
     "model_module_version": "2.0.0",
     "state": {
      "_model_module": "@jupyter-widgets/base",
      "_model_module_version": "2.0.0",
      "_model_name": "LayoutModel",
      "_view_count": null,
      "_view_module": "@jupyter-widgets/base",
      "_view_module_version": "2.0.0",
      "_view_name": "LayoutView",
      "align_content": null,
      "align_items": null,
      "align_self": null,
      "border_bottom": null,
      "border_left": null,
      "border_right": null,
      "border_top": null,
      "bottom": null,
      "display": null,
      "flex": null,
      "flex_flow": null,
      "grid_area": null,
      "grid_auto_columns": null,
      "grid_auto_flow": null,
      "grid_auto_rows": null,
      "grid_column": null,
      "grid_gap": null,
      "grid_row": null,
      "grid_template_areas": null,
      "grid_template_columns": null,
      "grid_template_rows": null,
      "height": null,
      "justify_content": null,
      "justify_items": null,
      "left": null,
      "margin": null,
      "max_height": null,
      "max_width": null,
      "min_height": null,
      "min_width": null,
      "object_fit": null,
      "object_position": null,
      "order": null,
      "overflow": null,
      "padding": null,
      "right": null,
      "top": null,
      "visibility": null,
      "width": null
     }
    },
    "d504426d25f24999a40d2e3d8212a9cc": {
     "model_module": "@jupyter-widgets/controls",
     "model_name": "ProgressStyleModel",
     "model_module_version": "2.0.0",
     "state": {
      "_model_module": "@jupyter-widgets/controls",
      "_model_module_version": "2.0.0",
      "_model_name": "ProgressStyleModel",
      "_view_count": null,
      "_view_module": "@jupyter-widgets/base",
      "_view_module_version": "2.0.0",
      "_view_name": "StyleView",
      "bar_color": null,
      "description_width": ""
     }
    },
    "c4cc8337c96445a997db66de81889588": {
     "model_module": "@jupyter-widgets/base",
     "model_name": "LayoutModel",
     "model_module_version": "2.0.0",
     "state": {
      "_model_module": "@jupyter-widgets/base",
      "_model_module_version": "2.0.0",
      "_model_name": "LayoutModel",
      "_view_count": null,
      "_view_module": "@jupyter-widgets/base",
      "_view_module_version": "2.0.0",
      "_view_name": "LayoutView",
      "align_content": null,
      "align_items": null,
      "align_self": null,
      "border_bottom": null,
      "border_left": null,
      "border_right": null,
      "border_top": null,
      "bottom": null,
      "display": null,
      "flex": null,
      "flex_flow": null,
      "grid_area": null,
      "grid_auto_columns": null,
      "grid_auto_flow": null,
      "grid_auto_rows": null,
      "grid_column": null,
      "grid_gap": null,
      "grid_row": null,
      "grid_template_areas": null,
      "grid_template_columns": null,
      "grid_template_rows": null,
      "height": null,
      "justify_content": null,
      "justify_items": null,
      "left": null,
      "margin": null,
      "max_height": null,
      "max_width": null,
      "min_height": null,
      "min_width": null,
      "object_fit": null,
      "object_position": null,
      "order": null,
      "overflow": null,
      "padding": null,
      "right": null,
      "top": null,
      "visibility": null,
      "width": null
     }
    },
    "7202da09f5214a699f740f519e9860ce": {
     "model_module": "@jupyter-widgets/controls",
     "model_name": "HTMLStyleModel",
     "model_module_version": "2.0.0",
     "state": {
      "_model_module": "@jupyter-widgets/controls",
      "_model_module_version": "2.0.0",
      "_model_name": "HTMLStyleModel",
      "_view_count": null,
      "_view_module": "@jupyter-widgets/base",
      "_view_module_version": "2.0.0",
      "_view_name": "StyleView",
      "background": null,
      "description_width": "",
      "font_size": null,
      "text_color": null
     }
    }
   }
  }
 },
 "nbformat": 4,
 "nbformat_minor": 0
}